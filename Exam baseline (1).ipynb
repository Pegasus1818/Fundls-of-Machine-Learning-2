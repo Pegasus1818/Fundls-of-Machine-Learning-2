{
 "cells": [
  {
   "cell_type": "markdown",
   "metadata": {
    "id": "zC5KwRyl6Flp"
   },
   "source": [
    "# Task description\n",
    "- Classify the speakers of given features.\n",
    "- Main goal: Learn how to use transformer.\n",
    "- Hints:\n",
    "  - Easy: Run sample code and know how to use transformer.\n",
    "  - Medium: Know how to adjust parameters of transformer.\n",
    "  - Hard: Construct [conformer](https://arxiv.org/abs/2005.08100) which is a variety of transformer. \n"
   ]
  },
  {
   "cell_type": "markdown",
   "metadata": {
    "id": "v1gYr_aoNDue"
   },
   "source": [
    "# Data"
   ]
  },
  {
   "cell_type": "markdown",
   "metadata": {
    "id": "Mz_NpuAipk3h"
   },
   "source": [
    "## Dataset\n",
    "- Original dataset is [Voxceleb1](https://www.robots.ox.ac.uk/~vgg/data/voxceleb/).\n",
    "- The [license](https://creativecommons.org/licenses/by/4.0/) and [complete version](https://www.robots.ox.ac.uk/~vgg/data/voxceleb/files/license.txt) of Voxceleb1.\n",
    "- 600 randomly selected speakers from Voxceleb1.\n",
    "- Then preprocess the raw waveforms into mel-spectrograms.\n",
    "\n",
    "- Args:\n",
    "  - data_dir: The path to the data directory.\n",
    "  - metadata_path: The path to the metadata.\n",
    "  - segment_len: The length of audio segment for training. \n",
    "- The architecture of data directory\n",
    "  - data directory <br>\n",
    "  |---- metadata.json <br>\n",
    "  |---- testdata.json <br>\n",
    "  |---- mapping.json <br>\n",
    "  |---- uttr-{random string}.pt\n",
    "\n",
    "- The information in metadata\n",
    "  - \"n_mels\": The dimention of mel-spectrogram.\n",
    "  - \"speakers\": A dictionary. \n",
    "    - Key: speaker ids.\n",
    "    - value: \"feature_path\" and \"mel_len\"\n",
    "\n",
    "\n",
    "For efficiency, we segment the mel-spectrograms into segments in the traing step."
   ]
  },
  {
   "cell_type": "code",
   "execution_count": 1,
   "metadata": {
    "id": "cd7hoGhYtbXQ"
   },
   "outputs": [],
   "source": [
    "import os\n",
    "import json\n",
    "import torch\n",
    "import random\n",
    "from pathlib import Path\n",
    "from torch.utils.data import Dataset\n",
    "from torch.nn.utils.rnn import pad_sequence\n",
    " \n",
    " \n",
    " \n",
    "class myDataset(Dataset):\n",
    "\tdef __init__(self, data_dir, segment_len=128):\n",
    "\t\tself.data_dir = data_dir\n",
    "\t\tself.segment_len = segment_len\n",
    "\t\n",
    "\t\t# Load the mapping from speaker neme to their corresponding id. \n",
    "\t\tmapping_path = Path(data_dir) / \"mapping.json\"\n",
    "\t\tmapping = json.load(mapping_path.open())\n",
    "\t\tself.speaker2id = mapping[\"speaker2id\"]\n",
    "\t\n",
    "\t\t# Load metadata of training data.\n",
    "\t\tmetadata_path = Path(data_dir) / \"metadata.json\"\n",
    "\t\tmetadata = json.load(open(metadata_path))[\"speakers\"]\n",
    "\t\n",
    "\t\t# Get the total number of speaker.\n",
    "\t\tself.speaker_num = len(metadata.keys())\n",
    "\t\tself.metalabels = metadata.keys()\n",
    "\t\tself.data = []\n",
    "\t\tfor speaker in metadata.keys():\n",
    "\t\t\tfor utterances in metadata[speaker]:\n",
    "\t\t\t\tself.data.append([utterances[\"feature_path\"], self.speaker2id[speaker]])\n",
    " \n",
    "\tdef __len__(self):\n",
    "\t\t\treturn len(self.data)\n",
    " \n",
    "\tdef __getitem__(self, index):\n",
    "\t\tfeat_path, speaker = self.data[index]\n",
    "\t\t# Load preprocessed mel-spectrogram.\n",
    "\t\tmel = torch.load(os.path.join(self.data_dir, feat_path))\n",
    "\n",
    "\t\t# Segmemt mel-spectrogram into \"segment_len\" frames.\n",
    "\t\tif len(mel) > self.segment_len:\n",
    "\t\t\t# Randomly get the starting point of the segment.\n",
    "\t\t\tstart = random.randint(0, len(mel) - self.segment_len)\n",
    "\t\t\t# Get a segment with \"segment_len\" frames.\n",
    "\t\t\tmel = torch.FloatTensor(mel[start:start+self.segment_len])\n",
    "\t\telse:\n",
    "\t\t\tmel = torch.FloatTensor(mel)\n",
    "\t\t# Turn the speaker id into long for computing loss later.\n",
    "\t\tspeaker = torch.FloatTensor([speaker]).long()\n",
    "\t\treturn mel, speaker\n",
    " \n",
    "\tdef get_speaker_number(self):\n",
    "\t\treturn self.speaker_num\n",
    "\n",
    "\tdef get_speaker_labels(self):\n",
    "\t\treturn self.metalabels"
   ]
  },
  {
   "cell_type": "markdown",
   "metadata": {
    "id": "mqJxjoi_NGnB"
   },
   "source": [
    "## Dataloader\n",
    "- Split dataset into training dataset(90%) and validation dataset(10%).\n",
    "- Create dataloader to iterate the data.\n"
   ]
  },
  {
   "cell_type": "code",
   "execution_count": 2,
   "metadata": {
    "id": "zuT1AuFENI8t"
   },
   "outputs": [],
   "source": [
    "import torch\n",
    "from torch.utils.data import DataLoader, random_split\n",
    "from torch.nn.utils.rnn import pad_sequence\n",
    "\n",
    "\n",
    "def collate_batch(batch):\n",
    "\t# Process features within a batch.\n",
    "\t\"\"\"Collate a batch of data.\"\"\"\n",
    "\tmel, speaker = zip(*batch)\n",
    "\t# Because we train the model batch by batch, we need to pad the features in the same batch to make their lengths the same.\n",
    "\tmel = pad_sequence(mel, batch_first=True, padding_value=-20)    # pad log 10^(-20) which is very small value.\n",
    "\t# mel: (batch size, length, 40)\n",
    "\treturn mel, torch.FloatTensor(speaker).long()\n",
    "\n",
    "\n",
    "def get_dataloader(data_dir, batch_size, n_workers):\n",
    "\t\"\"\"Generate dataloader\"\"\"\n",
    "\tdataset = myDataset(data_dir)\n",
    "\tspeaker_num = dataset.get_speaker_number()\n",
    "\t# Split dataset into training dataset and validation dataset\n",
    "\ttrainlen = int(0.9 * len(dataset))\n",
    "\tlengths = [trainlen, len(dataset) - trainlen]\n",
    "\ttrainset, validset = random_split(dataset, lengths)\n",
    "\t\n",
    "\ttrain_labels = dataset.get_speaker_labels()\n",
    "\t# train_sampler = sampler_(train_labels)\n",
    "\n",
    "\ttrain_loader = DataLoader(\n",
    "\t\ttrainset,\n",
    "\t\tbatch_size=batch_size,\n",
    "\t\tshuffle=True,\n",
    "\t\tdrop_last=True,\n",
    "\t\tnum_workers=n_workers,\n",
    "\t\tpin_memory=True,\n",
    "\t\tcollate_fn=collate_batch,\n",
    "\t\t# sampler=train_sampler,\n",
    "\t)\n",
    "\tvalid_loader = DataLoader(\n",
    "\t\tvalidset,\n",
    "\t\tbatch_size=batch_size,\n",
    "\t\tnum_workers=n_workers,\n",
    "\t\tdrop_last=True,\n",
    "\t\tpin_memory=True,\n",
    "\t\tcollate_fn=collate_batch,\n",
    "\t)\n",
    "\n",
    "\treturn train_loader, valid_loader, speaker_num"
   ]
  },
  {
   "cell_type": "markdown",
   "metadata": {
    "id": "X0x6eXiHpr4R"
   },
   "source": [
    "# Model\n",
    "- TransformerEncoderLayer:\n",
    "  - Base transformer encoder layer in [Attention Is All You Need](https://arxiv.org/abs/1706.03762)\n",
    "  - Parameters:\n",
    "    - d_model: the number of expected features of the input (required).\n",
    "\n",
    "    - nhead: the number of heads of the multiheadattention models (required).\n",
    "\n",
    "    - dim_feedforward: the dimension of the feedforward network model (default=2048).\n",
    "\n",
    "    - dropout: the dropout value (default=0.1).\n",
    "\n",
    "    - activation: the activation function of intermediate layer, relu or gelu (default=relu).\n",
    "\n",
    "- TransformerEncoder:\n",
    "  - TransformerEncoder is a stack of N transformer encoder layers\n",
    "  - Parameters:\n",
    "    - encoder_layer: an instance of the TransformerEncoderLayer() class (required).\n",
    "\n",
    "    - num_layers: the number of sub-encoder-layers in the encoder (required).\n",
    "\n",
    "    - norm: the layer normalization component (optional)."
   ]
  },
  {
   "cell_type": "code",
   "execution_count": 16,
   "metadata": {
    "id": "SHX4eVj4tjtd"
   },
   "outputs": [],
   "source": [
    "import torch\n",
    "import torch.nn as nn\n",
    "import torch.nn.functional as F\n",
    "from conformer import ConformerBlock\n",
    "\n",
    "class Classifier(nn.Module):\n",
    "\tdef __init__(self, d_model=240, n_spks=600, dropout=0.1):\n",
    "\t\tsuper().__init__()\n",
    "\t\t# Project the dimension of features from that of input into d_model.\n",
    "\t\tself.prenet = nn.Linear(40, d_model)\n",
    "\t\t# TODO:\n",
    "\t\t#   Change Transformer to Conformer.\n",
    "\t\t#   https://arxiv.org/abs/2005.08100\n",
    "# \t\tself.conformer_block = ConformerBlock(\n",
    "# \t\t\tdim=d_model,\n",
    "# \t\t\tdim_head=256,\n",
    "# \t\t\theads=1,\n",
    "# \t\t\tff_mult=2, # factor of feed forward (dim_feedforward=d_model*ff_mult)\n",
    "# \t\t\tconv_expansion_factor=8,\n",
    "# \t\t\tconv_kernel_size=31,\n",
    "# \t\t\tattn_dropout=dropout,\n",
    "# \t\t\tff_dropout=dropout,\n",
    "# \t\t\tconv_dropout=dropout\n",
    "# \t\t\t)\n",
    "\n",
    "\t\tself.encoder_layer = nn.TransformerEncoderLayer(\n",
    "\t\t\td_model=d_model, dim_feedforward=256, nhead=3\n",
    "\t\t)\n",
    "\t\tself.encoder = nn.TransformerEncoder(self.encoder_layer, num_layers=4)\n",
    "\n",
    "\t\t# Project the the dimension of features from d_model into speaker nums.\n",
    "\t\tself.pred_layer = nn.Sequential(\n",
    "\t\t\t# nn.Linear(d_model, d_model),\n",
    "\t\t\t# nn.ReLU(),\n",
    "\t\t\tnn.Linear(d_model, n_spks),\n",
    "\t\t)\n",
    "  \n",
    "\tdef forward(self, mels):\n",
    "\t\t\"\"\"\n",
    "\t\targs:\n",
    "\t\t\tmels: (batch size, length, 40)\n",
    "\t\treturn:\n",
    "\t\t\tout: (batch size, n_spks)\n",
    "\t\t\"\"\"\n",
    "\t\t# out: (batch size, length, d_model)\n",
    "\t\tout = self.prenet(mels)\n",
    "  \n",
    "\t\t# out: (length, batch size, d_model)\n",
    "\t\tout = out.permute(1, 0, 2)\n",
    "  \n",
    "\t\t# The encoder layer expect features in the shape of (length, batch size, d_model).\n",
    "\t\t#out = self.conformer_block(out)\n",
    "\t\tout = self.encoder(out)\n",
    "  \n",
    "\t\t# out: (batch size, length, d_model)\n",
    "\t\tout = out.transpose(0, 1)\n",
    "  \n",
    "\t\t# mean pooling\n",
    "\t\tstats = out.mean(dim=1)\n",
    "\t\t\n",
    "\t\t# out: (batch, n_spks)\n",
    "\t\tout = self.pred_layer(stats)\t\t\n",
    "\t\treturn out"
   ]
  },
  {
   "cell_type": "markdown",
   "metadata": {
    "id": "-__DolPGpvDZ"
   },
   "source": [
    "# Learning rate schedule\n",
    "- For transformer architecture, the design of learning rate schedule is different from that of CNN.\n",
    "- Previous works show that the warmup of learning rate is useful for training models with transformer architectures.\n",
    "- The warmup schedule\n",
    "  - Set learning rate to 0 in the beginning.\n",
    "  - The learning rate increases linearly from 0 to initial learning rate during warmup period."
   ]
  },
  {
   "cell_type": "code",
   "execution_count": 4,
   "metadata": {},
   "outputs": [],
   "source": [
    "import math\n",
    "\n",
    "class CosineScheduler:\n",
    "    def __init__(self, max_update, base_lr=0.01, final_lr=0,\n",
    "               warmup_steps=0, warmup_begin_lr=0):\n",
    "        self.base_lr_orig = base_lr\n",
    "        self.max_update = max_update\n",
    "        self.final_lr = final_lr\n",
    "        self.warmup_steps = warmup_steps\n",
    "        self.warmup_begin_lr = warmup_begin_lr\n",
    "        self.max_steps = self.max_update - self.warmup_steps\n",
    "\n",
    "    def get_warmup_lr(self, epoch):\n",
    "        increase = (self.base_lr_orig - self.warmup_begin_lr) \\\n",
    "                       * float(epoch) / float(self.warmup_steps)\n",
    "        return self.warmup_begin_lr + increase\n",
    "\n",
    "    def __call__(self, epoch):\n",
    "        if epoch < self.warmup_steps:\n",
    "            return self.get_warmup_lr(epoch)\n",
    "        if epoch <= self.max_update:\n",
    "            self.base_lr = self.final_lr + (\n",
    "                self.base_lr_orig - self.final_lr) * (1 + math.cos(\n",
    "                math.pi * (epoch - self.warmup_steps) / self.max_steps)) / 2\n",
    "        return self.base_lr"
   ]
  },
  {
   "cell_type": "code",
   "execution_count": 5,
   "metadata": {
    "id": "K-0816BntqT9"
   },
   "outputs": [],
   "source": [
    "import torch\n",
    "from torch.optim import Optimizer\n",
    "from torch.optim.lr_scheduler import LambdaLR\n",
    "\n",
    "\n",
    "def get_cosine_schedule_with_warmup(\n",
    "\toptimizer: Optimizer,\n",
    "\tnum_warmup_steps: int,\n",
    "\tnum_training_steps: int,\n",
    "\tnum_cycles: float = 0.5,\n",
    "\tlast_epoch: int = -1,\n",
    "):\n",
    "\t\"\"\"\n",
    "\tCreate a schedule with a learning rate that decreases following the values of the cosine function between the\n",
    "\tinitial lr set in the optimizer to 0, after a warmup period during which it increases linearly between 0 and the\n",
    "\tinitial lr set in the optimizer.\n",
    "\n",
    "\tArgs:\n",
    "\t\toptimizer (:class:`~torch.optim.Optimizer`):\n",
    "\t\tThe optimizer for which to schedule the learning rate.\n",
    "\t\tnum_warmup_steps (:obj:`int`):\n",
    "\t\tThe number of steps for the warmup phase.\n",
    "\t\tnum_training_steps (:obj:`int`):\n",
    "\t\tThe total number of training steps.\n",
    "\t\tnum_cycles (:obj:`float`, `optional`, defaults to 0.5):\n",
    "\t\tThe number of waves in the cosine schedule (the defaults is to just decrease from the max value to 0\n",
    "\t\tfollowing a half-cosine).\n",
    "\t\tlast_epoch (:obj:`int`, `optional`, defaults to -1):\n",
    "\t\tThe index of the last epoch when resuming training.\n",
    "\n",
    "\tReturn:\n",
    "\t\t:obj:`torch.optim.lr_scheduler.LambdaLR` with the appropriate schedule.\n",
    "\t\"\"\"\n",
    "\tdef lr_lambda(current_step):\n",
    "\t\t# Warmup\n",
    "\t\tif current_step < num_warmup_steps:\n",
    "\t\t\treturn float(current_step) / float(max(1, num_warmup_steps))\n",
    "\t\t# decadence\n",
    "\t\tprogress = float(current_step - num_warmup_steps) / float(\n",
    "\t\t\tmax(1, num_training_steps - num_warmup_steps)\n",
    "\t\t)\n",
    "\t\treturn max(\n",
    "\t\t\t0.0, 0.5 * (1.0 + math.cos(math.pi * float(num_cycles) * 2.0 * progress))\n",
    "\t\t)\n",
    "\n",
    "\treturn LambdaLR(optimizer, CosineScheduler(max_update=250000, base_lr=1, final_lr=0.005, warmup_steps=1e3), last_epoch)"
   ]
  },
  {
   "cell_type": "markdown",
   "metadata": {
    "id": "IP03FFo9K8DS"
   },
   "source": [
    "# Model Function\n",
    "- Model forward function."
   ]
  },
  {
   "cell_type": "code",
   "execution_count": 6,
   "metadata": {
    "id": "fohaLEFJK9-t"
   },
   "outputs": [],
   "source": [
    "import torch\n",
    "\n",
    "def model_fn(batch, model, criterion, device):\n",
    "\t\"\"\"Forward a batch through the model.\"\"\"\n",
    "\n",
    "\tmels, labels = batch\n",
    "\tmels = mels.to(device)\n",
    "\tlabels = labels.to(device)\n",
    "\touts = model(mels)\n",
    "\n",
    "\tloss = criterion(outs, labels)\n",
    "\n",
    "\t# Get the speaker id with highest probability.\n",
    "\tpreds = outs.argmax(1)\n",
    "\t# Compute accuracy.\n",
    "\taccuracy = torch.mean((preds == labels).float())\n",
    "\n",
    "\treturn loss, accuracy"
   ]
  },
  {
   "cell_type": "markdown",
   "metadata": {
    "id": "F7cg-YrzLQcf"
   },
   "source": [
    "# Validate\n",
    "- Calculate accuracy of the validation set."
   ]
  },
  {
   "cell_type": "code",
   "execution_count": 7,
   "metadata": {
    "id": "mD-_p6nWLO2L"
   },
   "outputs": [],
   "source": [
    "from tqdm import tqdm\n",
    "import torch\n",
    "\n",
    "\n",
    "def valid(dataloader, model, criterion, device): \n",
    "\t\"\"\"Validate on validation set.\"\"\"\n",
    "\n",
    "\tmodel.eval()\n",
    "\trunning_loss = 0.0\n",
    "\trunning_accuracy = 0.0\n",
    "\tpbar = tqdm(total=len(dataloader.dataset), ncols=0, desc=\"Valid\", unit=\" uttr\")\n",
    "\n",
    "\tfor i, batch in enumerate(dataloader):\n",
    "\t\twith torch.no_grad():\n",
    "\t\t\tloss, accuracy = model_fn(batch, model, criterion, device)\n",
    "\t\t\trunning_loss += loss.item()\n",
    "\t\t\trunning_accuracy += accuracy.item()\n",
    "\n",
    "\t\tpbar.update(dataloader.batch_size)\n",
    "\t\tpbar.set_postfix(\n",
    "\t\t\tloss=f\"{running_loss / (i+1):.2f}\",\n",
    "\t\t\taccuracy=f\"{running_accuracy / (i+1):.2f}\",\n",
    "\t\t)\n",
    "\n",
    "\tpbar.close()\n",
    "\tmodel.train()\n",
    "\n",
    "\treturn running_accuracy / len(dataloader)\n"
   ]
  },
  {
   "cell_type": "markdown",
   "metadata": {
    "id": "noHXyal5p1W5"
   },
   "source": [
    "# Main function"
   ]
  },
  {
   "cell_type": "code",
   "execution_count": 17,
   "metadata": {
    "id": "chRQE7oYtw62"
   },
   "outputs": [
    {
     "name": "stdout",
     "output_type": "stream",
     "text": [
      "[Info]: Use cuda now!\n",
      "[Info]: Finish loading data!\n",
      "[Info]: Finish creating model!\n"
     ]
    },
    {
     "name": "stderr",
     "output_type": "stream",
     "text": [
      "Train: 82000 step [1:17:49, 17.56 step/s, accuracy=0.92, loss=0.25]        \n",
      "Valid:  99% 5952/6000 [00:07<00:00, 757.48 uttr/s, accuracy=0.82, loss=0.85]\n"
     ]
    },
    {
     "name": "stdout",
     "output_type": "stream",
     "text": [
      "[82000/300000] Train Acc: 0.9218, Train loss: 0.2750, Valid Acc: 0.8239, lr = 0.00076\n",
      "Step 82000, best model saved. (accuracy=0.8239)\n"
     ]
    },
    {
     "name": "stderr",
     "output_type": "stream",
     "text": [
      "Train: 100% 2000/2000 [01:53<00:00, 17.70 step/s, accuracy=0.97, loss=0.13]\n",
      "Valid:  99% 5952/6000 [00:03<00:00, 1653.12 uttr/s, accuracy=0.84, loss=0.79]\n"
     ]
    },
    {
     "name": "stdout",
     "output_type": "stream",
     "text": [
      "[84000/300000] Train Acc: 0.9251, Train loss: 0.2645, Valid Acc: 0.8380, lr = 0.00075\n",
      "Step 84000, best model saved. (accuracy=0.8380)\n"
     ]
    },
    {
     "name": "stderr",
     "output_type": "stream",
     "text": [
      "Train: 100% 2000/2000 [01:53<00:00, 17.68 step/s, accuracy=0.97, loss=0.20]\n",
      "Valid:  99% 5952/6000 [00:03<00:00, 1657.72 uttr/s, accuracy=0.84, loss=0.76]\n"
     ]
    },
    {
     "name": "stdout",
     "output_type": "stream",
     "text": [
      "[86000/300000] Train Acc: 0.9169, Train loss: 0.2901, Valid Acc: 0.8397, lr = 0.00074\n",
      "Step 86000, best model saved. (accuracy=0.8397)\n"
     ]
    },
    {
     "name": "stderr",
     "output_type": "stream",
     "text": [
      "Train: 100% 2000/2000 [01:52<00:00, 17.74 step/s, accuracy=0.89, loss=0.34]\n",
      "Valid:  99% 5952/6000 [00:03<00:00, 1639.39 uttr/s, accuracy=0.84, loss=0.78]\n"
     ]
    },
    {
     "name": "stdout",
     "output_type": "stream",
     "text": [
      "[88000/300000] Train Acc: 0.9276, Train loss: 0.2562, Valid Acc: 0.8374, lr = 0.00073\n"
     ]
    },
    {
     "name": "stderr",
     "output_type": "stream",
     "text": [
      "Train: 100% 2000/2000 [01:52<00:00, 17.76 step/s, accuracy=0.92, loss=0.23]\n",
      "Valid:  99% 5952/6000 [00:03<00:00, 1589.09 uttr/s, accuracy=0.84, loss=0.75]\n"
     ]
    },
    {
     "name": "stdout",
     "output_type": "stream",
     "text": [
      "[90000/300000] Train Acc: 0.9211, Train loss: 0.2751, Valid Acc: 0.8387, lr = 0.00072\n"
     ]
    },
    {
     "name": "stderr",
     "output_type": "stream",
     "text": [
      "                                      \n",
      "Train:   0% 0/2000 [00:00<?, ? step/s]                                     \n",
      "Train:   0% 3/2000 [00:00<02:19, 14.30 step/s, accuracy=0.91, loss=0.25].41]\u001b[A"
     ]
    },
    {
     "name": "stdout",
     "output_type": "stream",
     "text": [
      "Step 90000, best model saved. (accuracy=0.8397)\n"
     ]
    },
    {
     "name": "stderr",
     "output_type": "stream",
     "text": [
      "Train: 100% 2000/2000 [01:52<00:00, 17.72 step/s, accuracy=0.97, loss=0.17]\n",
      "Valid:  99% 5952/6000 [00:03<00:00, 1628.70 uttr/s, accuracy=0.85, loss=0.75]\n"
     ]
    },
    {
     "name": "stdout",
     "output_type": "stream",
     "text": [
      "[92000/300000] Train Acc: 0.9325, Train loss: 0.2342, Valid Acc: 0.8456, lr = 0.00071\n",
      "Step 92000, best model saved. (accuracy=0.8456)\n"
     ]
    },
    {
     "name": "stderr",
     "output_type": "stream",
     "text": [
      "Train: 100% 2000/2000 [01:53<00:00, 17.54 step/s, accuracy=0.94, loss=0.21]\n",
      "Valid:  99% 5952/6000 [00:03<00:00, 1650.79 uttr/s, accuracy=0.84, loss=0.78]\n"
     ]
    },
    {
     "name": "stdout",
     "output_type": "stream",
     "text": [
      "[94000/300000] Train Acc: 0.9298, Train loss: 0.2399, Valid Acc: 0.8359, lr = 0.00070\n"
     ]
    },
    {
     "name": "stderr",
     "output_type": "stream",
     "text": [
      "Train: 100% 2000/2000 [01:53<00:00, 17.63 step/s, accuracy=0.95, loss=0.16]\n",
      "Valid:  99% 5952/6000 [00:03<00:00, 1656.51 uttr/s, accuracy=0.83, loss=0.77]\n"
     ]
    },
    {
     "name": "stdout",
     "output_type": "stream",
     "text": [
      "[96000/300000] Train Acc: 0.9310, Train loss: 0.2398, Valid Acc: 0.8327, lr = 0.00068\n"
     ]
    },
    {
     "name": "stderr",
     "output_type": "stream",
     "text": [
      "Train: 100% 2000/2000 [01:52<00:00, 17.77 step/s, accuracy=0.91, loss=0.34]\n",
      "Valid:  99% 5952/6000 [00:03<00:00, 1628.09 uttr/s, accuracy=0.84, loss=0.75]\n"
     ]
    },
    {
     "name": "stdout",
     "output_type": "stream",
     "text": [
      "[98000/300000] Train Acc: 0.9345, Train loss: 0.2293, Valid Acc: 0.8446, lr = 0.00067\n"
     ]
    },
    {
     "name": "stderr",
     "output_type": "stream",
     "text": [
      "Train: 100% 2000/2000 [01:52<00:00, 17.80 step/s, accuracy=0.94, loss=0.22]\n",
      "Valid:  99% 5952/6000 [00:03<00:00, 1664.19 uttr/s, accuracy=0.84, loss=0.75]\n"
     ]
    },
    {
     "name": "stdout",
     "output_type": "stream",
     "text": [
      "[100000/300000] Train Acc: 0.9342, Train loss: 0.2265, Valid Acc: 0.8402, lr = 0.00066\n"
     ]
    },
    {
     "name": "stderr",
     "output_type": "stream",
     "text": [
      "                                      \n",
      "Train:   0% 0/2000 [00:00<?, ? step/s]                                      \n",
      "Train:   0% 3/2000 [00:00<02:11, 15.14 step/s, accuracy=0.95, loss=0.21].41]\u001b[A"
     ]
    },
    {
     "name": "stdout",
     "output_type": "stream",
     "text": [
      "Step 100000, best model saved. (accuracy=0.8456)\n"
     ]
    },
    {
     "name": "stderr",
     "output_type": "stream",
     "text": [
      "Train: 100% 2000/2000 [01:52<00:00, 17.76 step/s, accuracy=0.97, loss=0.12]\n",
      "Valid:  99% 5952/6000 [00:03<00:00, 1661.11 uttr/s, accuracy=0.84, loss=0.79]\n"
     ]
    },
    {
     "name": "stdout",
     "output_type": "stream",
     "text": [
      "[102000/300000] Train Acc: 0.9373, Train loss: 0.2188, Valid Acc: 0.8397, lr = 0.00065\n"
     ]
    },
    {
     "name": "stderr",
     "output_type": "stream",
     "text": [
      "Train: 100% 2000/2000 [01:52<00:00, 17.76 step/s, accuracy=0.97, loss=0.23]\n",
      "Valid:  99% 5952/6000 [00:03<00:00, 1593.44 uttr/s, accuracy=0.84, loss=0.76]\n"
     ]
    },
    {
     "name": "stdout",
     "output_type": "stream",
     "text": [
      "[104000/300000] Train Acc: 0.9397, Train loss: 0.2089, Valid Acc: 0.8392, lr = 0.00064\n"
     ]
    },
    {
     "name": "stderr",
     "output_type": "stream",
     "text": [
      "Train: 100% 2000/2000 [01:58<00:00, 16.91 step/s, accuracy=0.94, loss=0.17]\n",
      "Valid:  99% 5952/6000 [00:03<00:00, 1573.07 uttr/s, accuracy=0.85, loss=0.75]\n"
     ]
    },
    {
     "name": "stdout",
     "output_type": "stream",
     "text": [
      "[106000/300000] Train Acc: 0.9416, Train loss: 0.2013, Valid Acc: 0.8478, lr = 0.00062\n",
      "Step 106000, best model saved. (accuracy=0.8478)\n"
     ]
    },
    {
     "name": "stderr",
     "output_type": "stream",
     "text": [
      "Train: 100% 2000/2000 [01:58<00:00, 16.89 step/s, accuracy=0.97, loss=0.08]\n",
      "Valid:  99% 5952/6000 [00:03<00:00, 1654.93 uttr/s, accuracy=0.84, loss=0.73]\n"
     ]
    },
    {
     "name": "stdout",
     "output_type": "stream",
     "text": [
      "[108000/300000] Train Acc: 0.9439, Train loss: 0.1919, Valid Acc: 0.8438, lr = 0.00061\n"
     ]
    },
    {
     "name": "stderr",
     "output_type": "stream",
     "text": [
      "Train: 100% 2000/2000 [01:50<00:00, 18.17 step/s, accuracy=0.92, loss=0.18]\n",
      "Valid:  99% 5952/6000 [00:03<00:00, 1695.87 uttr/s, accuracy=0.84, loss=0.77]\n"
     ]
    },
    {
     "name": "stdout",
     "output_type": "stream",
     "text": [
      "[110000/300000] Train Acc: 0.9395, Train loss: 0.2083, Valid Acc: 0.8424, lr = 0.00060\n"
     ]
    },
    {
     "name": "stderr",
     "output_type": "stream",
     "text": [
      "                                      \n",
      "Train:   0% 0/2000 [00:00<?, ? step/s]                                      \n",
      "Train:   0% 3/2000 [00:00<02:12, 15.09 step/s, accuracy=0.97, loss=0.10].41]\u001b[A"
     ]
    },
    {
     "name": "stdout",
     "output_type": "stream",
     "text": [
      "Step 110000, best model saved. (accuracy=0.8478)\n"
     ]
    },
    {
     "name": "stderr",
     "output_type": "stream",
     "text": [
      "Train: 100% 2000/2000 [01:49<00:00, 18.20 step/s, accuracy=0.89, loss=0.31]\n",
      "Valid:  99% 5952/6000 [00:03<00:00, 1695.31 uttr/s, accuracy=0.84, loss=0.78]\n"
     ]
    },
    {
     "name": "stdout",
     "output_type": "stream",
     "text": [
      "[112000/300000] Train Acc: 0.9445, Train loss: 0.1914, Valid Acc: 0.8365, lr = 0.00059\n"
     ]
    },
    {
     "name": "stderr",
     "output_type": "stream",
     "text": [
      "Train: 100% 2000/2000 [01:50<00:00, 18.18 step/s, accuracy=0.95, loss=0.14]\n",
      "Valid:  99% 5952/6000 [00:03<00:00, 1693.85 uttr/s, accuracy=0.85, loss=0.73]\n"
     ]
    },
    {
     "name": "stdout",
     "output_type": "stream",
     "text": [
      "[114000/300000] Train Acc: 0.9504, Train loss: 0.1718, Valid Acc: 0.8540, lr = 0.00057\n",
      "Step 114000, best model saved. (accuracy=0.8540)\n"
     ]
    },
    {
     "name": "stderr",
     "output_type": "stream",
     "text": [
      "Train: 100% 2000/2000 [01:50<00:00, 18.12 step/s, accuracy=0.95, loss=0.19]\n",
      "Valid:  99% 5952/6000 [00:03<00:00, 1691.99 uttr/s, accuracy=0.85, loss=0.72]\n"
     ]
    },
    {
     "name": "stdout",
     "output_type": "stream",
     "text": [
      "[116000/300000] Train Acc: 0.9497, Train loss: 0.1771, Valid Acc: 0.8537, lr = 0.00056\n"
     ]
    },
    {
     "name": "stderr",
     "output_type": "stream",
     "text": [
      "Train: 100% 2000/2000 [01:51<00:00, 18.00 step/s, accuracy=0.92, loss=0.19]\n",
      "Valid:  99% 5952/6000 [00:03<00:00, 1684.32 uttr/s, accuracy=0.85, loss=0.76]\n"
     ]
    },
    {
     "name": "stdout",
     "output_type": "stream",
     "text": [
      "[118000/300000] Train Acc: 0.9502, Train loss: 0.1719, Valid Acc: 0.8515, lr = 0.00055\n"
     ]
    },
    {
     "name": "stderr",
     "output_type": "stream",
     "text": [
      "Train: 100% 2000/2000 [01:51<00:00, 17.96 step/s, accuracy=0.94, loss=0.13]\n",
      "Valid:  99% 5952/6000 [00:03<00:00, 1686.47 uttr/s, accuracy=0.85, loss=0.72]\n"
     ]
    },
    {
     "name": "stdout",
     "output_type": "stream",
     "text": [
      "[120000/300000] Train Acc: 0.9509, Train loss: 0.1695, Valid Acc: 0.8545, lr = 0.00054\n",
      "Step 120000, best model saved. (accuracy=0.8545)\n"
     ]
    },
    {
     "name": "stderr",
     "output_type": "stream",
     "text": [
      "                                      \n",
      "Train:   0% 0/2000 [00:00<?, ? step/s]                                      \n",
      "Train:   0% 2/2000 [00:00<02:15, 14.76 step/s, accuracy=0.94, loss=0.14].41]\u001b[A"
     ]
    },
    {
     "name": "stdout",
     "output_type": "stream",
     "text": [
      "Step 120000, best model saved. (accuracy=0.8545)\n"
     ]
    },
    {
     "name": "stderr",
     "output_type": "stream",
     "text": [
      "Train: 100% 2000/2000 [01:51<00:00, 17.98 step/s, accuracy=0.95, loss=0.14]\n",
      "Valid:  99% 5952/6000 [00:03<00:00, 1618.19 uttr/s, accuracy=0.86, loss=0.66]\n"
     ]
    },
    {
     "name": "stdout",
     "output_type": "stream",
     "text": [
      "[122000/300000] Train Acc: 0.9535, Train loss: 0.1550, Valid Acc: 0.8599, lr = 0.00052\n",
      "Step 122000, best model saved. (accuracy=0.8599)\n"
     ]
    },
    {
     "name": "stderr",
     "output_type": "stream",
     "text": [
      "Train: 100% 2000/2000 [01:50<00:00, 18.02 step/s, accuracy=0.95, loss=0.23]\n",
      "Valid:  99% 5952/6000 [00:03<00:00, 1590.98 uttr/s, accuracy=0.86, loss=0.69]\n"
     ]
    },
    {
     "name": "stdout",
     "output_type": "stream",
     "text": [
      "[124000/300000] Train Acc: 0.9556, Train loss: 0.1521, Valid Acc: 0.8637, lr = 0.00051\n",
      "Step 124000, best model saved. (accuracy=0.8637)\n"
     ]
    },
    {
     "name": "stderr",
     "output_type": "stream",
     "text": [
      "Train: 100% 2000/2000 [01:50<00:00, 18.02 step/s, accuracy=0.95, loss=0.15]\n",
      "Valid:  99% 5952/6000 [00:03<00:00, 1682.73 uttr/s, accuracy=0.86, loss=0.70]\n"
     ]
    },
    {
     "name": "stdout",
     "output_type": "stream",
     "text": [
      "[126000/300000] Train Acc: 0.9595, Train loss: 0.1397, Valid Acc: 0.8607, lr = 0.00050\n"
     ]
    },
    {
     "name": "stderr",
     "output_type": "stream",
     "text": [
      "Train: 100% 2000/2000 [01:55<00:00, 17.29 step/s, accuracy=1.00, loss=0.03]\n",
      "Valid:  99% 5952/6000 [00:03<00:00, 1649.78 uttr/s, accuracy=0.86, loss=0.68]\n"
     ]
    },
    {
     "name": "stdout",
     "output_type": "stream",
     "text": [
      "[128000/300000] Train Acc: 0.9594, Train loss: 0.1380, Valid Acc: 0.8617, lr = 0.00049\n"
     ]
    },
    {
     "name": "stderr",
     "output_type": "stream",
     "text": [
      "Train: 100% 2000/2000 [01:56<00:00, 17.20 step/s, accuracy=1.00, loss=0.05]\n",
      "Valid:  99% 5952/6000 [00:03<00:00, 1568.92 uttr/s, accuracy=0.87, loss=0.65]\n"
     ]
    },
    {
     "name": "stdout",
     "output_type": "stream",
     "text": [
      "[130000/300000] Train Acc: 0.9625, Train loss: 0.1262, Valid Acc: 0.8656, lr = 0.00047\n",
      "Step 130000, best model saved. (accuracy=0.8656)\n"
     ]
    },
    {
     "name": "stderr",
     "output_type": "stream",
     "text": [
      "                                      \n",
      "Train:   0% 0/2000 [00:00<?, ? step/s]                                      \n",
      "Train:   0% 2/2000 [00:00<02:29, 13.40 step/s, accuracy=0.95, loss=0.12].41]\u001b[A"
     ]
    },
    {
     "name": "stdout",
     "output_type": "stream",
     "text": [
      "Step 130000, best model saved. (accuracy=0.8656)\n"
     ]
    },
    {
     "name": "stderr",
     "output_type": "stream",
     "text": [
      "Train: 100% 2000/2000 [01:59<00:00, 16.75 step/s, accuracy=0.94, loss=0.27]\n",
      "Valid:  99% 5952/6000 [00:03<00:00, 1544.64 uttr/s, accuracy=0.86, loss=0.69]\n"
     ]
    },
    {
     "name": "stdout",
     "output_type": "stream",
     "text": [
      "[132000/300000] Train Acc: 0.9614, Train loss: 0.1332, Valid Acc: 0.8636, lr = 0.00046\n"
     ]
    },
    {
     "name": "stderr",
     "output_type": "stream",
     "text": [
      "Train: 100% 2000/2000 [01:54<00:00, 17.50 step/s, accuracy=0.98, loss=0.04]\n",
      "Valid:  99% 5952/6000 [00:03<00:00, 1674.09 uttr/s, accuracy=0.87, loss=0.65]\n"
     ]
    },
    {
     "name": "stdout",
     "output_type": "stream",
     "text": [
      "[134000/300000] Train Acc: 0.9652, Train loss: 0.1200, Valid Acc: 0.8691, lr = 0.00045\n",
      "Step 134000, best model saved. (accuracy=0.8691)\n"
     ]
    },
    {
     "name": "stderr",
     "output_type": "stream",
     "text": [
      "Train: 100% 2000/2000 [01:52<00:00, 17.80 step/s, accuracy=1.00, loss=0.08]\n",
      "Valid:  99% 5952/6000 [00:03<00:00, 1664.39 uttr/s, accuracy=0.86, loss=0.69]\n"
     ]
    },
    {
     "name": "stdout",
     "output_type": "stream",
     "text": [
      "[136000/300000] Train Acc: 0.9675, Train loss: 0.1138, Valid Acc: 0.8621, lr = 0.00044\n"
     ]
    },
    {
     "name": "stderr",
     "output_type": "stream",
     "text": [
      "Train: 100% 2000/2000 [01:51<00:00, 17.97 step/s, accuracy=0.98, loss=0.04]\n",
      "Valid:  99% 5952/6000 [00:03<00:00, 1669.78 uttr/s, accuracy=0.87, loss=0.65]\n"
     ]
    },
    {
     "name": "stdout",
     "output_type": "stream",
     "text": [
      "[138000/300000] Train Acc: 0.9672, Train loss: 0.1102, Valid Acc: 0.8715, lr = 0.00042\n",
      "Step 138000, best model saved. (accuracy=0.8715)\n"
     ]
    },
    {
     "name": "stderr",
     "output_type": "stream",
     "text": [
      "Train: 100% 2000/2000 [01:55<00:00, 17.27 step/s, accuracy=0.98, loss=0.04]\n",
      "Valid:  99% 5952/6000 [00:03<00:00, 1680.33 uttr/s, accuracy=0.87, loss=0.65]\n"
     ]
    },
    {
     "name": "stdout",
     "output_type": "stream",
     "text": [
      "[140000/300000] Train Acc: 0.9696, Train loss: 0.1051, Valid Acc: 0.8728, lr = 0.00041\n",
      "Step 140000, best model saved. (accuracy=0.8728)\n"
     ]
    },
    {
     "name": "stderr",
     "output_type": "stream",
     "text": [
      "                                      \n",
      "Train:   0% 0/2000 [00:00<?, ? step/s]                                      \n",
      "Train:   0% 2/2000 [00:00<02:21, 14.16 step/s, accuracy=0.94, loss=0.14].41]\u001b[A"
     ]
    },
    {
     "name": "stdout",
     "output_type": "stream",
     "text": [
      "Step 140000, best model saved. (accuracy=0.8728)\n"
     ]
    },
    {
     "name": "stderr",
     "output_type": "stream",
     "text": [
      "Train: 100% 2000/2000 [01:48<00:00, 18.44 step/s, accuracy=0.98, loss=0.09]\n",
      "Valid:  99% 5952/6000 [00:03<00:00, 1683.65 uttr/s, accuracy=0.87, loss=0.67]\n"
     ]
    },
    {
     "name": "stdout",
     "output_type": "stream",
     "text": [
      "[142000/300000] Train Acc: 0.9690, Train loss: 0.1073, Valid Acc: 0.8690, lr = 0.00040\n"
     ]
    },
    {
     "name": "stderr",
     "output_type": "stream",
     "text": [
      "Train: 100% 2000/2000 [01:48<00:00, 18.36 step/s, accuracy=0.94, loss=0.15]\n",
      "Valid:  99% 5952/6000 [00:03<00:00, 1524.64 uttr/s, accuracy=0.87, loss=0.65]\n"
     ]
    },
    {
     "name": "stdout",
     "output_type": "stream",
     "text": [
      "[144000/300000] Train Acc: 0.9722, Train loss: 0.0962, Valid Acc: 0.8690, lr = 0.00039\n"
     ]
    },
    {
     "name": "stderr",
     "output_type": "stream",
     "text": [
      "Train: 100% 2000/2000 [01:49<00:00, 18.24 step/s, accuracy=0.94, loss=0.20]\n",
      "Valid:  99% 5952/6000 [00:03<00:00, 1684.35 uttr/s, accuracy=0.88, loss=0.64]\n"
     ]
    },
    {
     "name": "stdout",
     "output_type": "stream",
     "text": [
      "[146000/300000] Train Acc: 0.9733, Train loss: 0.0915, Valid Acc: 0.8779, lr = 0.00038\n",
      "Step 146000, best model saved. (accuracy=0.8779)\n"
     ]
    },
    {
     "name": "stderr",
     "output_type": "stream",
     "text": [
      "Train: 100% 2000/2000 [01:48<00:00, 18.38 step/s, accuracy=0.98, loss=0.07]\n",
      "Valid:  99% 5952/6000 [00:03<00:00, 1700.84 uttr/s, accuracy=0.88, loss=0.64]\n"
     ]
    },
    {
     "name": "stdout",
     "output_type": "stream",
     "text": [
      "[148000/300000] Train Acc: 0.9740, Train loss: 0.0890, Valid Acc: 0.8763, lr = 0.00036\n"
     ]
    },
    {
     "name": "stderr",
     "output_type": "stream",
     "text": [
      "Train: 100% 2000/2000 [01:49<00:00, 18.21 step/s, accuracy=0.94, loss=0.14]\n",
      "Valid:  99% 5952/6000 [00:03<00:00, 1679.22 uttr/s, accuracy=0.88, loss=0.60]\n"
     ]
    },
    {
     "name": "stdout",
     "output_type": "stream",
     "text": [
      "[150000/300000] Train Acc: 0.9756, Train loss: 0.0858, Valid Acc: 0.8814, lr = 0.00035\n",
      "Step 150000, best model saved. (accuracy=0.8814)\n"
     ]
    },
    {
     "name": "stderr",
     "output_type": "stream",
     "text": [
      "                                      \n",
      "Train:   0% 0/2000 [00:00<?, ? step/s]                                      \n",
      "Train:   0% 3/2000 [00:00<02:07, 15.63 step/s, accuracy=1.00, loss=0.02].41]\u001b[A"
     ]
    },
    {
     "name": "stdout",
     "output_type": "stream",
     "text": [
      "Step 150000, best model saved. (accuracy=0.8814)\n"
     ]
    },
    {
     "name": "stderr",
     "output_type": "stream",
     "text": [
      "Train: 100% 2000/2000 [01:49<00:00, 18.23 step/s, accuracy=0.95, loss=0.11]\n",
      "Valid:  99% 5952/6000 [00:03<00:00, 1700.65 uttr/s, accuracy=0.88, loss=0.63]\n"
     ]
    },
    {
     "name": "stdout",
     "output_type": "stream",
     "text": [
      "[152000/300000] Train Acc: 0.9780, Train loss: 0.0777, Valid Acc: 0.8794, lr = 0.00034\n"
     ]
    },
    {
     "name": "stderr",
     "output_type": "stream",
     "text": [
      "Train: 100% 2000/2000 [01:49<00:00, 18.25 step/s, accuracy=1.00, loss=0.01]\n",
      "Valid:  99% 5952/6000 [00:03<00:00, 1693.43 uttr/s, accuracy=0.89, loss=0.59]\n"
     ]
    },
    {
     "name": "stdout",
     "output_type": "stream",
     "text": [
      "[154000/300000] Train Acc: 0.9788, Train loss: 0.0762, Valid Acc: 0.8864, lr = 0.00033\n",
      "Step 154000, best model saved. (accuracy=0.8864)\n"
     ]
    },
    {
     "name": "stderr",
     "output_type": "stream",
     "text": [
      "Train: 100% 2000/2000 [01:49<00:00, 18.26 step/s, accuracy=0.97, loss=0.13]\n",
      "Valid:  99% 5952/6000 [00:03<00:00, 1703.94 uttr/s, accuracy=0.88, loss=0.63]\n"
     ]
    },
    {
     "name": "stdout",
     "output_type": "stream",
     "text": [
      "[156000/300000] Train Acc: 0.9789, Train loss: 0.0741, Valid Acc: 0.8787, lr = 0.00032\n"
     ]
    },
    {
     "name": "stderr",
     "output_type": "stream",
     "text": [
      "Train: 100% 2000/2000 [01:49<00:00, 18.23 step/s, accuracy=1.00, loss=0.06]\n",
      "Valid:  99% 5952/6000 [00:03<00:00, 1662.02 uttr/s, accuracy=0.89, loss=0.60]\n"
     ]
    },
    {
     "name": "stdout",
     "output_type": "stream",
     "text": [
      "[158000/300000] Train Acc: 0.9791, Train loss: 0.0718, Valid Acc: 0.8861, lr = 0.00030\n"
     ]
    },
    {
     "name": "stderr",
     "output_type": "stream",
     "text": [
      "Train: 100% 2000/2000 [01:50<00:00, 18.17 step/s, accuracy=0.98, loss=0.08]\n",
      "Valid:  99% 5952/6000 [00:03<00:00, 1699.06 uttr/s, accuracy=0.88, loss=0.62]\n"
     ]
    },
    {
     "name": "stdout",
     "output_type": "stream",
     "text": [
      "[160000/300000] Train Acc: 0.9817, Train loss: 0.0641, Valid Acc: 0.8822, lr = 0.00029\n"
     ]
    },
    {
     "name": "stderr",
     "output_type": "stream",
     "text": [
      "                                      \n",
      "Train:   0% 0/2000 [00:00<?, ? step/s]                                      \n",
      "Train:   0% 3/2000 [00:00<02:09, 15.46 step/s, accuracy=1.00, loss=0.03].41]\u001b[A"
     ]
    },
    {
     "name": "stdout",
     "output_type": "stream",
     "text": [
      "Step 160000, best model saved. (accuracy=0.8864)\n"
     ]
    },
    {
     "name": "stderr",
     "output_type": "stream",
     "text": [
      "Train: 100% 2000/2000 [01:50<00:00, 18.17 step/s, accuracy=0.97, loss=0.10]\n",
      "Valid:  99% 5952/6000 [00:03<00:00, 1690.97 uttr/s, accuracy=0.89, loss=0.60]\n"
     ]
    },
    {
     "name": "stdout",
     "output_type": "stream",
     "text": [
      "[162000/300000] Train Acc: 0.9827, Train loss: 0.0608, Valid Acc: 0.8866, lr = 0.00028\n",
      "Step 162000, best model saved. (accuracy=0.8866)\n"
     ]
    },
    {
     "name": "stderr",
     "output_type": "stream",
     "text": [
      "Train: 100% 2000/2000 [01:49<00:00, 18.28 step/s, accuracy=1.00, loss=0.02]\n",
      "Valid:  99% 5952/6000 [00:03<00:00, 1702.84 uttr/s, accuracy=0.88, loss=0.62]\n"
     ]
    },
    {
     "name": "stdout",
     "output_type": "stream",
     "text": [
      "[164000/300000] Train Acc: 0.9848, Train loss: 0.0540, Valid Acc: 0.8787, lr = 0.00027\n"
     ]
    },
    {
     "name": "stderr",
     "output_type": "stream",
     "text": [
      "Train: 100% 2000/2000 [01:47<00:00, 18.54 step/s, accuracy=0.98, loss=0.04]\n",
      "Valid:  99% 5952/6000 [00:03<00:00, 1703.02 uttr/s, accuracy=0.89, loss=0.59]\n"
     ]
    },
    {
     "name": "stdout",
     "output_type": "stream",
     "text": [
      "[166000/300000] Train Acc: 0.9845, Train loss: 0.0532, Valid Acc: 0.8873, lr = 0.00026\n",
      "Step 166000, best model saved. (accuracy=0.8873)\n"
     ]
    },
    {
     "name": "stderr",
     "output_type": "stream",
     "text": [
      "Train: 100% 2000/2000 [01:47<00:00, 18.52 step/s, accuracy=0.98, loss=0.03]\n",
      "Valid:  99% 5952/6000 [00:03<00:00, 1701.23 uttr/s, accuracy=0.88, loss=0.64]\n"
     ]
    },
    {
     "name": "stdout",
     "output_type": "stream",
     "text": [
      "[168000/300000] Train Acc: 0.9842, Train loss: 0.0542, Valid Acc: 0.8821, lr = 0.00025\n"
     ]
    },
    {
     "name": "stderr",
     "output_type": "stream",
     "text": [
      "Train: 100% 2000/2000 [02:03<00:00, 16.19 step/s, accuracy=0.98, loss=0.10]\n",
      "Valid:  99% 5952/6000 [00:04<00:00, 1403.92 uttr/s, accuracy=0.89, loss=0.61]\n"
     ]
    },
    {
     "name": "stdout",
     "output_type": "stream",
     "text": [
      "[170000/300000] Train Acc: 0.9864, Train loss: 0.0473, Valid Acc: 0.8881, lr = 0.00024\n",
      "Step 170000, best model saved. (accuracy=0.8881)\n"
     ]
    },
    {
     "name": "stderr",
     "output_type": "stream",
     "text": [
      "                                      \n",
      "Train:   0% 0/2000 [00:00<?, ? step/s]                                      \n",
      "Train:   0% 2/2000 [00:00<02:49, 11.80 step/s, accuracy=1.00, loss=0.01].41]\u001b[A"
     ]
    },
    {
     "name": "stdout",
     "output_type": "stream",
     "text": [
      "Step 170000, best model saved. (accuracy=0.8881)\n"
     ]
    },
    {
     "name": "stderr",
     "output_type": "stream",
     "text": [
      "Train: 100% 2000/2000 [02:08<00:00, 15.57 step/s, accuracy=0.98, loss=0.06]\n",
      "Valid:  99% 5952/6000 [00:03<00:00, 1684.36 uttr/s, accuracy=0.89, loss=0.62]\n"
     ]
    },
    {
     "name": "stdout",
     "output_type": "stream",
     "text": [
      "[172000/300000] Train Acc: 0.9871, Train loss: 0.0454, Valid Acc: 0.8889, lr = 0.00023\n",
      "Step 172000, best model saved. (accuracy=0.8889)\n"
     ]
    },
    {
     "name": "stderr",
     "output_type": "stream",
     "text": [
      "Train: 100% 2000/2000 [01:50<00:00, 18.05 step/s, accuracy=1.00, loss=0.02]\n",
      "Valid:  99% 5952/6000 [00:03<00:00, 1661.14 uttr/s, accuracy=0.89, loss=0.61]\n"
     ]
    },
    {
     "name": "stdout",
     "output_type": "stream",
     "text": [
      "[174000/300000] Train Acc: 0.9885, Train loss: 0.0421, Valid Acc: 0.8888, lr = 0.00022\n"
     ]
    },
    {
     "name": "stderr",
     "output_type": "stream",
     "text": [
      "Train: 100% 2000/2000 [01:50<00:00, 18.08 step/s, accuracy=1.00, loss=0.01]\n",
      "Valid:  99% 5952/6000 [00:03<00:00, 1614.96 uttr/s, accuracy=0.89, loss=0.60]\n"
     ]
    },
    {
     "name": "stdout",
     "output_type": "stream",
     "text": [
      "[176000/300000] Train Acc: 0.9897, Train loss: 0.0386, Valid Acc: 0.8908, lr = 0.00021\n",
      "Step 176000, best model saved. (accuracy=0.8908)\n"
     ]
    },
    {
     "name": "stderr",
     "output_type": "stream",
     "text": [
      "Train: 100% 2000/2000 [01:50<00:00, 18.13 step/s, accuracy=1.00, loss=0.00]\n",
      "Valid:  99% 5952/6000 [00:03<00:00, 1667.49 uttr/s, accuracy=0.90, loss=0.58]\n"
     ]
    },
    {
     "name": "stdout",
     "output_type": "stream",
     "text": [
      "[178000/300000] Train Acc: 0.9896, Train loss: 0.0377, Valid Acc: 0.8978, lr = 0.00020\n",
      "Step 178000, best model saved. (accuracy=0.8978)\n"
     ]
    },
    {
     "name": "stderr",
     "output_type": "stream",
     "text": [
      "Train: 100% 2000/2000 [01:50<00:00, 18.04 step/s, accuracy=1.00, loss=0.03]\n",
      "Valid:  99% 5952/6000 [00:03<00:00, 1671.05 uttr/s, accuracy=0.90, loss=0.58]\n"
     ]
    },
    {
     "name": "stdout",
     "output_type": "stream",
     "text": [
      "[180000/300000] Train Acc: 0.9902, Train loss: 0.0368, Valid Acc: 0.8970, lr = 0.00019\n"
     ]
    },
    {
     "name": "stderr",
     "output_type": "stream",
     "text": [
      "                                      \n",
      "Train:   0% 0/2000 [00:00<?, ? step/s]                                      \n",
      "Train:   0% 3/2000 [00:00<02:08, 15.55 step/s, accuracy=0.98, loss=0.04].41]\u001b[A"
     ]
    },
    {
     "name": "stdout",
     "output_type": "stream",
     "text": [
      "Step 180000, best model saved. (accuracy=0.8978)\n"
     ]
    },
    {
     "name": "stderr",
     "output_type": "stream",
     "text": [
      "Train: 100% 2000/2000 [01:50<00:00, 18.10 step/s, accuracy=1.00, loss=0.02]\n",
      "Valid:  99% 5952/6000 [00:03<00:00, 1633.58 uttr/s, accuracy=0.90, loss=0.56]\n"
     ]
    },
    {
     "name": "stdout",
     "output_type": "stream",
     "text": [
      "[182000/300000] Train Acc: 0.9912, Train loss: 0.0334, Valid Acc: 0.8965, lr = 0.00018\n"
     ]
    },
    {
     "name": "stderr",
     "output_type": "stream",
     "text": [
      "Train: 100% 2000/2000 [01:50<00:00, 18.17 step/s, accuracy=1.00, loss=0.00]\n",
      "Valid:  99% 5952/6000 [00:03<00:00, 1694.48 uttr/s, accuracy=0.90, loss=0.58]\n"
     ]
    },
    {
     "name": "stdout",
     "output_type": "stream",
     "text": [
      "[184000/300000] Train Acc: 0.9912, Train loss: 0.0327, Valid Acc: 0.8965, lr = 0.00017\n"
     ]
    },
    {
     "name": "stderr",
     "output_type": "stream",
     "text": [
      "Train: 100% 2000/2000 [01:50<00:00, 18.04 step/s, accuracy=1.00, loss=0.01]\n",
      "Valid:  99% 5952/6000 [00:03<00:00, 1663.22 uttr/s, accuracy=0.89, loss=0.57]\n"
     ]
    },
    {
     "name": "stdout",
     "output_type": "stream",
     "text": [
      "[186000/300000] Train Acc: 0.9930, Train loss: 0.0276, Valid Acc: 0.8933, lr = 0.00016\n"
     ]
    },
    {
     "name": "stderr",
     "output_type": "stream",
     "text": [
      "Train: 100% 2000/2000 [01:50<00:00, 18.03 step/s, accuracy=0.98, loss=0.07]\n",
      "Valid:  99% 5952/6000 [00:03<00:00, 1655.50 uttr/s, accuracy=0.90, loss=0.53]\n"
     ]
    },
    {
     "name": "stdout",
     "output_type": "stream",
     "text": [
      "[188000/300000] Train Acc: 0.9939, Train loss: 0.0255, Valid Acc: 0.9034, lr = 0.00015\n",
      "Step 188000, best model saved. (accuracy=0.9034)\n"
     ]
    },
    {
     "name": "stderr",
     "output_type": "stream",
     "text": [
      "Train: 100% 2000/2000 [01:54<00:00, 17.53 step/s, accuracy=1.00, loss=0.01]\n",
      "Valid:  99% 5952/6000 [00:03<00:00, 1627.64 uttr/s, accuracy=0.90, loss=0.56]\n"
     ]
    },
    {
     "name": "stdout",
     "output_type": "stream",
     "text": [
      "[190000/300000] Train Acc: 0.9931, Train loss: 0.0264, Valid Acc: 0.8995, lr = 0.00014\n"
     ]
    },
    {
     "name": "stderr",
     "output_type": "stream",
     "text": [
      "                                      \n",
      "Train:   0% 0/2000 [00:00<?, ? step/s]                                      \n",
      "Train:   0% 3/2000 [00:00<02:21, 14.12 step/s, accuracy=1.00, loss=0.01].41]\u001b[A"
     ]
    },
    {
     "name": "stdout",
     "output_type": "stream",
     "text": [
      "Step 190000, best model saved. (accuracy=0.9034)\n"
     ]
    },
    {
     "name": "stderr",
     "output_type": "stream",
     "text": [
      "Train: 100% 2000/2000 [01:53<00:00, 17.66 step/s, accuracy=1.00, loss=0.01]\n",
      "Valid:  99% 5952/6000 [00:03<00:00, 1665.38 uttr/s, accuracy=0.90, loss=0.56]\n"
     ]
    },
    {
     "name": "stdout",
     "output_type": "stream",
     "text": [
      "[192000/300000] Train Acc: 0.9946, Train loss: 0.0226, Valid Acc: 0.8994, lr = 0.00013\n"
     ]
    },
    {
     "name": "stderr",
     "output_type": "stream",
     "text": [
      "Train: 100% 2000/2000 [01:51<00:00, 17.98 step/s, accuracy=0.98, loss=0.02]\n",
      "Valid:  99% 5952/6000 [00:03<00:00, 1658.40 uttr/s, accuracy=0.90, loss=0.53]\n"
     ]
    },
    {
     "name": "stdout",
     "output_type": "stream",
     "text": [
      "[194000/300000] Train Acc: 0.9946, Train loss: 0.0221, Valid Acc: 0.9037, lr = 0.00012\n",
      "Step 194000, best model saved. (accuracy=0.9037)\n"
     ]
    },
    {
     "name": "stderr",
     "output_type": "stream",
     "text": [
      "Train: 100% 2000/2000 [01:51<00:00, 17.96 step/s, accuracy=0.98, loss=0.04]\n",
      "Valid:  99% 5952/6000 [00:03<00:00, 1676.79 uttr/s, accuracy=0.90, loss=0.56]\n"
     ]
    },
    {
     "name": "stdout",
     "output_type": "stream",
     "text": [
      "[196000/300000] Train Acc: 0.9954, Train loss: 0.0192, Valid Acc: 0.9007, lr = 0.00012\n"
     ]
    },
    {
     "name": "stderr",
     "output_type": "stream",
     "text": [
      "Train: 100% 2000/2000 [01:51<00:00, 17.97 step/s, accuracy=1.00, loss=0.02]\n",
      "Valid:  99% 5952/6000 [00:03<00:00, 1671.37 uttr/s, accuracy=0.90, loss=0.54]\n"
     ]
    },
    {
     "name": "stdout",
     "output_type": "stream",
     "text": [
      "[198000/300000] Train Acc: 0.9954, Train loss: 0.0184, Valid Acc: 0.9046, lr = 0.00011\n",
      "Step 198000, best model saved. (accuracy=0.9046)\n"
     ]
    },
    {
     "name": "stderr",
     "output_type": "stream",
     "text": [
      "Train: 100% 2000/2000 [01:51<00:00, 17.89 step/s, accuracy=0.98, loss=0.03]\n",
      "Valid:  99% 5952/6000 [00:03<00:00, 1663.10 uttr/s, accuracy=0.90, loss=0.56]\n"
     ]
    },
    {
     "name": "stdout",
     "output_type": "stream",
     "text": [
      "[200000/300000] Train Acc: 0.9964, Train loss: 0.0165, Valid Acc: 0.9032, lr = 0.00010\n"
     ]
    },
    {
     "name": "stderr",
     "output_type": "stream",
     "text": [
      "                                      \n",
      "Train:   0% 0/2000 [00:00<?, ? step/s]                                      \n",
      "Train:   0% 3/2000 [00:00<02:21, 14.09 step/s, accuracy=1.00, loss=0.00].41]\u001b[A"
     ]
    },
    {
     "name": "stdout",
     "output_type": "stream",
     "text": [
      "Step 200000, best model saved. (accuracy=0.9046)\n"
     ]
    },
    {
     "name": "stderr",
     "output_type": "stream",
     "text": [
      "Train: 100% 2000/2000 [01:51<00:00, 17.98 step/s, accuracy=1.00, loss=0.00]\n",
      "Valid:  99% 5952/6000 [00:03<00:00, 1665.05 uttr/s, accuracy=0.90, loss=0.55]\n"
     ]
    },
    {
     "name": "stdout",
     "output_type": "stream",
     "text": [
      "[202000/300000] Train Acc: 0.9961, Train loss: 0.0165, Valid Acc: 0.9034, lr = 0.00009\n"
     ]
    },
    {
     "name": "stderr",
     "output_type": "stream",
     "text": [
      "Train: 100% 2000/2000 [01:51<00:00, 17.93 step/s, accuracy=1.00, loss=0.01]\n",
      "Valid:  99% 5952/6000 [00:03<00:00, 1666.81 uttr/s, accuracy=0.91, loss=0.52]\n"
     ]
    },
    {
     "name": "stdout",
     "output_type": "stream",
     "text": [
      "[204000/300000] Train Acc: 0.9968, Train loss: 0.0157, Valid Acc: 0.9061, lr = 0.00009\n",
      "Step 204000, best model saved. (accuracy=0.9061)\n"
     ]
    },
    {
     "name": "stderr",
     "output_type": "stream",
     "text": [
      "Train: 100% 2000/2000 [01:51<00:00, 17.94 step/s, accuracy=1.00, loss=0.00]\n",
      "Valid:  99% 5952/6000 [00:03<00:00, 1668.56 uttr/s, accuracy=0.91, loss=0.57]\n"
     ]
    },
    {
     "name": "stdout",
     "output_type": "stream",
     "text": [
      "[206000/300000] Train Acc: 0.9970, Train loss: 0.0145, Valid Acc: 0.9051, lr = 0.00008\n"
     ]
    },
    {
     "name": "stderr",
     "output_type": "stream",
     "text": [
      "Train: 100% 2000/2000 [01:51<00:00, 17.95 step/s, accuracy=1.00, loss=0.00]\n",
      "Valid:  99% 5952/6000 [00:03<00:00, 1533.30 uttr/s, accuracy=0.90, loss=0.57]\n"
     ]
    },
    {
     "name": "stdout",
     "output_type": "stream",
     "text": [
      "[208000/300000] Train Acc: 0.9973, Train loss: 0.0120, Valid Acc: 0.9029, lr = 0.00007\n"
     ]
    },
    {
     "name": "stderr",
     "output_type": "stream",
     "text": [
      "Train: 100% 2000/2000 [01:51<00:00, 17.88 step/s, accuracy=0.98, loss=0.02]\n",
      "Valid:  99% 5952/6000 [00:03<00:00, 1675.00 uttr/s, accuracy=0.90, loss=0.55]\n"
     ]
    },
    {
     "name": "stdout",
     "output_type": "stream",
     "text": [
      "[210000/300000] Train Acc: 0.9976, Train loss: 0.0113, Valid Acc: 0.9034, lr = 0.00007\n"
     ]
    },
    {
     "name": "stderr",
     "output_type": "stream",
     "text": [
      "                                      \n",
      "Train:   0% 0/2000 [00:00<?, ? step/s]                                      \n",
      "Train:   0% 3/2000 [00:00<02:14, 14.86 step/s, accuracy=1.00, loss=0.01].41]\u001b[A"
     ]
    },
    {
     "name": "stdout",
     "output_type": "stream",
     "text": [
      "Step 210000, best model saved. (accuracy=0.9061)\n"
     ]
    },
    {
     "name": "stderr",
     "output_type": "stream",
     "text": [
      "Train: 100% 2000/2000 [01:52<00:00, 17.85 step/s, accuracy=1.00, loss=0.00]\n",
      "Valid:  99% 5952/6000 [00:03<00:00, 1660.54 uttr/s, accuracy=0.91, loss=0.49]\n"
     ]
    },
    {
     "name": "stdout",
     "output_type": "stream",
     "text": [
      "[212000/300000] Train Acc: 0.9978, Train loss: 0.0107, Valid Acc: 0.9093, lr = 0.00006\n",
      "Step 212000, best model saved. (accuracy=0.9093)\n"
     ]
    },
    {
     "name": "stderr",
     "output_type": "stream",
     "text": [
      "Train: 100% 2000/2000 [01:51<00:00, 17.86 step/s, accuracy=1.00, loss=0.01]\n",
      "Valid:  99% 5952/6000 [00:03<00:00, 1669.04 uttr/s, accuracy=0.92, loss=0.48]\n"
     ]
    },
    {
     "name": "stdout",
     "output_type": "stream",
     "text": [
      "[214000/300000] Train Acc: 0.9981, Train loss: 0.0097, Valid Acc: 0.9160, lr = 0.00006\n",
      "Step 214000, best model saved. (accuracy=0.9160)\n"
     ]
    },
    {
     "name": "stderr",
     "output_type": "stream",
     "text": [
      "Train: 100% 2000/2000 [01:51<00:00, 17.88 step/s, accuracy=1.00, loss=0.00]\n",
      "Valid:  99% 5952/6000 [00:03<00:00, 1651.47 uttr/s, accuracy=0.90, loss=0.56]\n"
     ]
    },
    {
     "name": "stdout",
     "output_type": "stream",
     "text": [
      "[216000/300000] Train Acc: 0.9981, Train loss: 0.0092, Valid Acc: 0.9036, lr = 0.00005\n"
     ]
    },
    {
     "name": "stderr",
     "output_type": "stream",
     "text": [
      "Train: 100% 2000/2000 [01:51<00:00, 17.92 step/s, accuracy=1.00, loss=0.01]\n",
      "Valid:  99% 5952/6000 [00:03<00:00, 1489.97 uttr/s, accuracy=0.91, loss=0.53]\n"
     ]
    },
    {
     "name": "stdout",
     "output_type": "stream",
     "text": [
      "[218000/300000] Train Acc: 0.9983, Train loss: 0.0093, Valid Acc: 0.9133, lr = 0.00004\n"
     ]
    },
    {
     "name": "stderr",
     "output_type": "stream",
     "text": [
      "Train: 100% 2000/2000 [01:53<00:00, 17.68 step/s, accuracy=0.98, loss=0.04]\n",
      "Valid:  99% 5952/6000 [00:03<00:00, 1613.22 uttr/s, accuracy=0.91, loss=0.51]\n"
     ]
    },
    {
     "name": "stdout",
     "output_type": "stream",
     "text": [
      "[220000/300000] Train Acc: 0.9985, Train loss: 0.0082, Valid Acc: 0.9136, lr = 0.00004\n"
     ]
    },
    {
     "name": "stderr",
     "output_type": "stream",
     "text": [
      "                                      \n",
      "Train:   0% 0/2000 [00:00<?, ? step/s]                                      \n",
      "Train:   0% 3/2000 [00:00<02:17, 14.48 step/s, accuracy=1.00, loss=0.00].41]\u001b[A"
     ]
    },
    {
     "name": "stdout",
     "output_type": "stream",
     "text": [
      "Step 220000, best model saved. (accuracy=0.9160)\n"
     ]
    },
    {
     "name": "stderr",
     "output_type": "stream",
     "text": [
      "Train: 100% 2000/2000 [01:51<00:00, 17.89 step/s, accuracy=1.00, loss=0.02]\n",
      "Valid:  99% 5952/6000 [00:03<00:00, 1671.97 uttr/s, accuracy=0.91, loss=0.50]\n"
     ]
    },
    {
     "name": "stdout",
     "output_type": "stream",
     "text": [
      "[222000/300000] Train Acc: 0.9986, Train loss: 0.0079, Valid Acc: 0.9141, lr = 0.00004\n"
     ]
    },
    {
     "name": "stderr",
     "output_type": "stream",
     "text": [
      "Train: 100% 2000/2000 [01:52<00:00, 17.84 step/s, accuracy=1.00, loss=0.01]\n",
      "Valid:  99% 5952/6000 [00:03<00:00, 1639.49 uttr/s, accuracy=0.92, loss=0.52]\n"
     ]
    },
    {
     "name": "stdout",
     "output_type": "stream",
     "text": [
      "[224000/300000] Train Acc: 0.9987, Train loss: 0.0075, Valid Acc: 0.9160, lr = 0.00003\n"
     ]
    },
    {
     "name": "stderr",
     "output_type": "stream",
     "text": [
      "Train: 100% 2000/2000 [01:51<00:00, 17.89 step/s, accuracy=1.00, loss=0.02]\n",
      "Valid:  99% 5952/6000 [00:03<00:00, 1673.53 uttr/s, accuracy=0.92, loss=0.48]\n"
     ]
    },
    {
     "name": "stdout",
     "output_type": "stream",
     "text": [
      "[226000/300000] Train Acc: 0.9991, Train loss: 0.0061, Valid Acc: 0.9178, lr = 0.00003\n",
      "Step 226000, best model saved. (accuracy=0.9178)\n"
     ]
    },
    {
     "name": "stderr",
     "output_type": "stream",
     "text": [
      "Train: 100% 2000/2000 [01:51<00:00, 17.97 step/s, accuracy=1.00, loss=0.00]\n",
      "Valid:  99% 5952/6000 [00:03<00:00, 1632.41 uttr/s, accuracy=0.91, loss=0.50]\n"
     ]
    },
    {
     "name": "stdout",
     "output_type": "stream",
     "text": [
      "[228000/300000] Train Acc: 0.9989, Train loss: 0.0067, Valid Acc: 0.9147, lr = 0.00002\n"
     ]
    },
    {
     "name": "stderr",
     "output_type": "stream",
     "text": [
      "Train: 100% 2000/2000 [01:51<00:00, 17.93 step/s, accuracy=1.00, loss=0.00]\n",
      "Valid:  99% 5952/6000 [00:03<00:00, 1627.79 uttr/s, accuracy=0.91, loss=0.53]\n"
     ]
    },
    {
     "name": "stdout",
     "output_type": "stream",
     "text": [
      "[230000/300000] Train Acc: 0.9992, Train loss: 0.0059, Valid Acc: 0.9135, lr = 0.00002\n"
     ]
    },
    {
     "name": "stderr",
     "output_type": "stream",
     "text": [
      "                                      \n",
      "Train:   0% 0/2000 [00:00<?, ? step/s]                                      \n",
      "Train:   0% 2/2000 [00:00<02:15, 14.72 step/s, accuracy=1.00, loss=0.01].41]\u001b[A"
     ]
    },
    {
     "name": "stdout",
     "output_type": "stream",
     "text": [
      "Step 230000, best model saved. (accuracy=0.9178)\n"
     ]
    },
    {
     "name": "stderr",
     "output_type": "stream",
     "text": [
      "Train: 100% 2000/2000 [01:52<00:00, 17.85 step/s, accuracy=1.00, loss=0.00]\n",
      "Valid:  99% 5952/6000 [00:03<00:00, 1641.23 uttr/s, accuracy=0.91, loss=0.52]\n"
     ]
    },
    {
     "name": "stdout",
     "output_type": "stream",
     "text": [
      "[232000/300000] Train Acc: 0.9992, Train loss: 0.0056, Valid Acc: 0.9118, lr = 0.00002\n"
     ]
    },
    {
     "name": "stderr",
     "output_type": "stream",
     "text": [
      "Train: 100% 2000/2000 [01:51<00:00, 17.88 step/s, accuracy=1.00, loss=0.01]\n",
      "Valid:  99% 5952/6000 [00:03<00:00, 1657.32 uttr/s, accuracy=0.91, loss=0.53]\n"
     ]
    },
    {
     "name": "stdout",
     "output_type": "stream",
     "text": [
      "[234000/300000] Train Acc: 0.9991, Train loss: 0.0060, Valid Acc: 0.9089, lr = 0.00002\n"
     ]
    },
    {
     "name": "stderr",
     "output_type": "stream",
     "text": [
      "Train: 100% 2000/2000 [01:51<00:00, 17.90 step/s, accuracy=1.00, loss=0.00]\n",
      "Valid:  99% 5952/6000 [00:03<00:00, 1675.99 uttr/s, accuracy=0.91, loss=0.50]\n"
     ]
    },
    {
     "name": "stdout",
     "output_type": "stream",
     "text": [
      "[236000/300000] Train Acc: 0.9992, Train loss: 0.0054, Valid Acc: 0.9098, lr = 0.00001\n"
     ]
    },
    {
     "name": "stderr",
     "output_type": "stream",
     "text": [
      "Train: 100% 2000/2000 [01:51<00:00, 17.90 step/s, accuracy=1.00, loss=0.02]\n",
      "Valid:  99% 5952/6000 [00:03<00:00, 1670.53 uttr/s, accuracy=0.91, loss=0.52]\n"
     ]
    },
    {
     "name": "stdout",
     "output_type": "stream",
     "text": [
      "[238000/300000] Train Acc: 0.9993, Train loss: 0.0050, Valid Acc: 0.9098, lr = 0.00001\n"
     ]
    },
    {
     "name": "stderr",
     "output_type": "stream",
     "text": [
      "Train: 100% 2000/2000 [01:52<00:00, 17.84 step/s, accuracy=1.00, loss=0.00]\n",
      "Valid:  99% 5952/6000 [00:03<00:00, 1686.09 uttr/s, accuracy=0.91, loss=0.51]\n"
     ]
    },
    {
     "name": "stdout",
     "output_type": "stream",
     "text": [
      "[240000/300000] Train Acc: 0.9991, Train loss: 0.0058, Valid Acc: 0.9106, lr = 0.00001\n"
     ]
    },
    {
     "name": "stderr",
     "output_type": "stream",
     "text": [
      "                                      \n",
      "Train:   0% 0/2000 [00:00<?, ? step/s]                                      \n",
      "Train:   0% 3/2000 [00:00<02:11, 15.24 step/s, accuracy=1.00, loss=0.01].41]\u001b[A"
     ]
    },
    {
     "name": "stdout",
     "output_type": "stream",
     "text": [
      "Step 240000, best model saved. (accuracy=0.9178)\n"
     ]
    },
    {
     "name": "stderr",
     "output_type": "stream",
     "text": [
      "Train: 100% 2000/2000 [01:52<00:00, 17.83 step/s, accuracy=1.00, loss=0.01]\n",
      "Valid:  99% 5952/6000 [00:03<00:00, 1684.52 uttr/s, accuracy=0.91, loss=0.50]\n"
     ]
    },
    {
     "name": "stdout",
     "output_type": "stream",
     "text": [
      "[242000/300000] Train Acc: 0.9990, Train loss: 0.0054, Valid Acc: 0.9148, lr = 0.00001\n"
     ]
    },
    {
     "name": "stderr",
     "output_type": "stream",
     "text": [
      "Train: 100% 2000/2000 [01:51<00:00, 17.96 step/s, accuracy=1.00, loss=0.00]\n",
      "Valid:  99% 5952/6000 [00:03<00:00, 1552.07 uttr/s, accuracy=0.92, loss=0.48]\n"
     ]
    },
    {
     "name": "stdout",
     "output_type": "stream",
     "text": [
      "[244000/300000] Train Acc: 0.9994, Train loss: 0.0050, Valid Acc: 0.9172, lr = 0.00001\n"
     ]
    },
    {
     "name": "stderr",
     "output_type": "stream",
     "text": [
      "Train: 100% 2000/2000 [01:51<00:00, 17.88 step/s, accuracy=1.00, loss=0.00]\n",
      "Valid:  99% 5952/6000 [00:03<00:00, 1694.66 uttr/s, accuracy=0.91, loss=0.50]\n"
     ]
    },
    {
     "name": "stdout",
     "output_type": "stream",
     "text": [
      "[246000/300000] Train Acc: 0.9994, Train loss: 0.0051, Valid Acc: 0.9125, lr = 0.00001\n"
     ]
    },
    {
     "name": "stderr",
     "output_type": "stream",
     "text": [
      "Train: 100% 2000/2000 [01:51<00:00, 17.95 step/s, accuracy=1.00, loss=0.00]\n",
      "Valid:  99% 5952/6000 [00:03<00:00, 1653.40 uttr/s, accuracy=0.91, loss=0.49]\n"
     ]
    },
    {
     "name": "stdout",
     "output_type": "stream",
     "text": [
      "[248000/300000] Train Acc: 0.9994, Train loss: 0.0047, Valid Acc: 0.9128, lr = 0.00001\n"
     ]
    },
    {
     "name": "stderr",
     "output_type": "stream",
     "text": [
      "Train: 100% 2000/2000 [01:51<00:00, 18.01 step/s, accuracy=1.00, loss=0.00]\n",
      "Valid:  99% 5952/6000 [00:03<00:00, 1545.42 uttr/s, accuracy=0.91, loss=0.50]\n"
     ]
    },
    {
     "name": "stdout",
     "output_type": "stream",
     "text": [
      "[250000/300000] Train Acc: 0.9995, Train loss: 0.0044, Valid Acc: 0.9130, lr = 0.00001\n"
     ]
    },
    {
     "name": "stderr",
     "output_type": "stream",
     "text": [
      "                                      \n",
      "Train:   0% 0/2000 [00:00<?, ? step/s]                                      \n",
      "Train:   0% 3/2000 [00:00<02:20, 14.25 step/s, accuracy=1.00, loss=0.00].41]\u001b[A"
     ]
    },
    {
     "name": "stdout",
     "output_type": "stream",
     "text": [
      "Step 250000, best model saved. (accuracy=0.9178)\n"
     ]
    },
    {
     "name": "stderr",
     "output_type": "stream",
     "text": [
      "Train: 100% 2000/2000 [01:52<00:00, 17.80 step/s, accuracy=1.00, loss=0.00]\n",
      "Valid:  99% 5952/6000 [00:03<00:00, 1630.00 uttr/s, accuracy=0.92, loss=0.50]\n"
     ]
    },
    {
     "name": "stdout",
     "output_type": "stream",
     "text": [
      "[252000/300000] Train Acc: 0.9996, Train loss: 0.0045, Valid Acc: 0.9192, lr = 0.00001\n",
      "Step 252000, best model saved. (accuracy=0.9192)\n"
     ]
    },
    {
     "name": "stderr",
     "output_type": "stream",
     "text": [
      "Train: 100% 2000/2000 [01:54<00:00, 17.40 step/s, accuracy=1.00, loss=0.00]\n",
      "Valid:  99% 5952/6000 [00:03<00:00, 1658.65 uttr/s, accuracy=0.91, loss=0.54]\n"
     ]
    },
    {
     "name": "stdout",
     "output_type": "stream",
     "text": [
      "[254000/300000] Train Acc: 0.9994, Train loss: 0.0045, Valid Acc: 0.9088, lr = 0.00001\n"
     ]
    },
    {
     "name": "stderr",
     "output_type": "stream",
     "text": [
      "Train: 100% 2000/2000 [01:52<00:00, 17.82 step/s, accuracy=0.98, loss=0.02]\n",
      "Valid:  99% 5952/6000 [00:03<00:00, 1687.91 uttr/s, accuracy=0.91, loss=0.50]\n"
     ]
    },
    {
     "name": "stdout",
     "output_type": "stream",
     "text": [
      "[256000/300000] Train Acc: 0.9994, Train loss: 0.0044, Valid Acc: 0.9128, lr = 0.00001\n"
     ]
    },
    {
     "name": "stderr",
     "output_type": "stream",
     "text": [
      "Train: 100% 2000/2000 [01:51<00:00, 18.00 step/s, accuracy=1.00, loss=0.00]\n",
      "Valid:  99% 5952/6000 [00:03<00:00, 1653.54 uttr/s, accuracy=0.91, loss=0.50]\n"
     ]
    },
    {
     "name": "stdout",
     "output_type": "stream",
     "text": [
      "[258000/300000] Train Acc: 0.9996, Train loss: 0.0041, Valid Acc: 0.9113, lr = 0.00001\n"
     ]
    },
    {
     "name": "stderr",
     "output_type": "stream",
     "text": [
      "Train: 100% 2000/2000 [01:51<00:00, 17.93 step/s, accuracy=1.00, loss=0.00]\n",
      "Valid:  99% 5952/6000 [00:03<00:00, 1661.92 uttr/s, accuracy=0.91, loss=0.51]\n"
     ]
    },
    {
     "name": "stdout",
     "output_type": "stream",
     "text": [
      "[260000/300000] Train Acc: 0.9996, Train loss: 0.0041, Valid Acc: 0.9118, lr = 0.00001\n"
     ]
    },
    {
     "name": "stderr",
     "output_type": "stream",
     "text": [
      "                                      \n",
      "Train:   0% 0/2000 [00:00<?, ? step/s]                                      \n",
      "Train:   0% 2/2000 [00:00<02:12, 15.06 step/s, accuracy=1.00, loss=0.00].41]\u001b[A"
     ]
    },
    {
     "name": "stdout",
     "output_type": "stream",
     "text": [
      "Step 260000, best model saved. (accuracy=0.9192)\n"
     ]
    },
    {
     "name": "stderr",
     "output_type": "stream",
     "text": [
      "Train: 100% 2000/2000 [01:51<00:00, 17.95 step/s, accuracy=1.00, loss=0.00]\n",
      "Valid:  99% 5952/6000 [00:03<00:00, 1677.74 uttr/s, accuracy=0.92, loss=0.48]\n"
     ]
    },
    {
     "name": "stdout",
     "output_type": "stream",
     "text": [
      "[262000/300000] Train Acc: 0.9994, Train loss: 0.0043, Valid Acc: 0.9165, lr = 0.00001\n"
     ]
    },
    {
     "name": "stderr",
     "output_type": "stream",
     "text": [
      "Train: 100% 2000/2000 [01:50<00:00, 18.05 step/s, accuracy=1.00, loss=0.00]\n",
      "Valid:  99% 5952/6000 [00:03<00:00, 1667.29 uttr/s, accuracy=0.91, loss=0.51]\n"
     ]
    },
    {
     "name": "stdout",
     "output_type": "stream",
     "text": [
      "[264000/300000] Train Acc: 0.9995, Train loss: 0.0044, Valid Acc: 0.9108, lr = 0.00001\n"
     ]
    },
    {
     "name": "stderr",
     "output_type": "stream",
     "text": [
      "Train: 100% 2000/2000 [01:51<00:00, 17.96 step/s, accuracy=1.00, loss=0.01]\n",
      "Valid:  99% 5952/6000 [00:03<00:00, 1649.07 uttr/s, accuracy=0.91, loss=0.50]\n"
     ]
    },
    {
     "name": "stdout",
     "output_type": "stream",
     "text": [
      "[266000/300000] Train Acc: 0.9995, Train loss: 0.0043, Valid Acc: 0.9118, lr = 0.00001\n"
     ]
    },
    {
     "name": "stderr",
     "output_type": "stream",
     "text": [
      "Train: 100% 2000/2000 [01:51<00:00, 17.90 step/s, accuracy=1.00, loss=0.00]\n",
      "Valid:  99% 5952/6000 [00:03<00:00, 1631.61 uttr/s, accuracy=0.92, loss=0.49]\n"
     ]
    },
    {
     "name": "stdout",
     "output_type": "stream",
     "text": [
      "[268000/300000] Train Acc: 0.9997, Train loss: 0.0039, Valid Acc: 0.9162, lr = 0.00001\n"
     ]
    },
    {
     "name": "stderr",
     "output_type": "stream",
     "text": [
      "Train: 100% 2000/2000 [01:51<00:00, 17.86 step/s, accuracy=1.00, loss=0.00]\n",
      "Valid:  99% 5952/6000 [00:03<00:00, 1680.98 uttr/s, accuracy=0.92, loss=0.50]\n"
     ]
    },
    {
     "name": "stdout",
     "output_type": "stream",
     "text": [
      "[270000/300000] Train Acc: 0.9995, Train loss: 0.0042, Valid Acc: 0.9158, lr = 0.00001\n"
     ]
    },
    {
     "name": "stderr",
     "output_type": "stream",
     "text": [
      "                                      \n",
      "Train:   0% 0/2000 [00:00<?, ? step/s]                                      \n",
      "Train:   0% 3/2000 [00:00<02:11, 15.18 step/s, accuracy=1.00, loss=0.01].41]\u001b[A"
     ]
    },
    {
     "name": "stdout",
     "output_type": "stream",
     "text": [
      "Step 270000, best model saved. (accuracy=0.9192)\n"
     ]
    },
    {
     "name": "stderr",
     "output_type": "stream",
     "text": [
      "Train: 100% 2000/2000 [01:52<00:00, 17.77 step/s, accuracy=1.00, loss=0.00]\n",
      "Valid:  99% 5952/6000 [00:04<00:00, 1440.37 uttr/s, accuracy=0.91, loss=0.53]\n"
     ]
    },
    {
     "name": "stdout",
     "output_type": "stream",
     "text": [
      "[272000/300000] Train Acc: 0.9995, Train loss: 0.0042, Valid Acc: 0.9128, lr = 0.00001\n"
     ]
    },
    {
     "name": "stderr",
     "output_type": "stream",
     "text": [
      "Train: 100% 2000/2000 [01:51<00:00, 17.94 step/s, accuracy=1.00, loss=0.00]\n",
      "Valid:  99% 5952/6000 [00:03<00:00, 1649.55 uttr/s, accuracy=0.92, loss=0.49]\n"
     ]
    },
    {
     "name": "stdout",
     "output_type": "stream",
     "text": [
      "[274000/300000] Train Acc: 0.9993, Train loss: 0.0044, Valid Acc: 0.9173, lr = 0.00001\n"
     ]
    },
    {
     "name": "stderr",
     "output_type": "stream",
     "text": [
      "Train: 100% 2000/2000 [01:51<00:00, 17.93 step/s, accuracy=1.00, loss=0.00]\n",
      "Valid:  99% 5952/6000 [00:03<00:00, 1670.80 uttr/s, accuracy=0.91, loss=0.49]\n"
     ]
    },
    {
     "name": "stdout",
     "output_type": "stream",
     "text": [
      "[276000/300000] Train Acc: 0.9996, Train loss: 0.0038, Valid Acc: 0.9141, lr = 0.00001\n"
     ]
    },
    {
     "name": "stderr",
     "output_type": "stream",
     "text": [
      "Train: 100% 2000/2000 [01:51<00:00, 17.88 step/s, accuracy=1.00, loss=0.00]\n",
      "Valid:  99% 5952/6000 [00:03<00:00, 1663.09 uttr/s, accuracy=0.92, loss=0.49]\n"
     ]
    },
    {
     "name": "stdout",
     "output_type": "stream",
     "text": [
      "[278000/300000] Train Acc: 0.9994, Train loss: 0.0040, Valid Acc: 0.9180, lr = 0.00001\n"
     ]
    },
    {
     "name": "stderr",
     "output_type": "stream",
     "text": [
      "Train: 100% 2000/2000 [01:51<00:00, 17.91 step/s, accuracy=1.00, loss=0.00]\n",
      "Valid:  99% 5952/6000 [00:03<00:00, 1611.23 uttr/s, accuracy=0.92, loss=0.48]\n"
     ]
    },
    {
     "name": "stdout",
     "output_type": "stream",
     "text": [
      "[280000/300000] Train Acc: 0.9995, Train loss: 0.0041, Valid Acc: 0.9167, lr = 0.00001\n"
     ]
    },
    {
     "name": "stderr",
     "output_type": "stream",
     "text": [
      "                                      \n",
      "Train:   0% 0/2000 [00:00<?, ? step/s]                                      \n",
      "Train:   0% 2/2000 [00:00<02:21, 14.15 step/s, accuracy=1.00, loss=0.02].41]\u001b[A"
     ]
    },
    {
     "name": "stdout",
     "output_type": "stream",
     "text": [
      "Step 280000, best model saved. (accuracy=0.9192)\n"
     ]
    },
    {
     "name": "stderr",
     "output_type": "stream",
     "text": [
      "Train: 100% 2000/2000 [01:50<00:00, 18.12 step/s, accuracy=1.00, loss=0.00]\n",
      "Valid:  99% 5952/6000 [00:03<00:00, 1663.53 uttr/s, accuracy=0.92, loss=0.49]\n"
     ]
    },
    {
     "name": "stdout",
     "output_type": "stream",
     "text": [
      "[282000/300000] Train Acc: 0.9996, Train loss: 0.0037, Valid Acc: 0.9163, lr = 0.00001\n"
     ]
    },
    {
     "name": "stderr",
     "output_type": "stream",
     "text": [
      "Train: 100% 2000/2000 [01:51<00:00, 18.00 step/s, accuracy=1.00, loss=0.00]\n",
      "Valid:  99% 5952/6000 [00:03<00:00, 1666.31 uttr/s, accuracy=0.92, loss=0.49]\n"
     ]
    },
    {
     "name": "stdout",
     "output_type": "stream",
     "text": [
      "[284000/300000] Train Acc: 0.9995, Train loss: 0.0041, Valid Acc: 0.9155, lr = 0.00001\n"
     ]
    },
    {
     "name": "stderr",
     "output_type": "stream",
     "text": [
      "Train: 100% 2000/2000 [01:50<00:00, 18.07 step/s, accuracy=1.00, loss=0.00]\n",
      "Valid:  99% 5952/6000 [00:03<00:00, 1678.35 uttr/s, accuracy=0.91, loss=0.49]\n"
     ]
    },
    {
     "name": "stdout",
     "output_type": "stream",
     "text": [
      "[286000/300000] Train Acc: 0.9997, Train loss: 0.0038, Valid Acc: 0.9131, lr = 0.00001\n"
     ]
    },
    {
     "name": "stderr",
     "output_type": "stream",
     "text": [
      "Train: 100% 2000/2000 [01:50<00:00, 18.09 step/s, accuracy=1.00, loss=0.00]\n",
      "Valid:  99% 5952/6000 [00:03<00:00, 1661.10 uttr/s, accuracy=0.91, loss=0.52]\n"
     ]
    },
    {
     "name": "stdout",
     "output_type": "stream",
     "text": [
      "[288000/300000] Train Acc: 0.9996, Train loss: 0.0040, Valid Acc: 0.9123, lr = 0.00001\n"
     ]
    },
    {
     "name": "stderr",
     "output_type": "stream",
     "text": [
      "Train: 100% 2000/2000 [01:51<00:00, 17.96 step/s, accuracy=1.00, loss=0.00]\n",
      "Valid:  99% 5952/6000 [00:03<00:00, 1659.77 uttr/s, accuracy=0.92, loss=0.52]\n"
     ]
    },
    {
     "name": "stdout",
     "output_type": "stream",
     "text": [
      "[290000/300000] Train Acc: 0.9995, Train loss: 0.0039, Valid Acc: 0.9162, lr = 0.00001\n"
     ]
    },
    {
     "name": "stderr",
     "output_type": "stream",
     "text": [
      "                                      \n",
      "Train:   0% 0/2000 [00:00<?, ? step/s]                                      \n",
      "Train:   0% 2/2000 [00:00<02:28, 13.44 step/s, accuracy=0.98, loss=0.05].41]\u001b[A"
     ]
    },
    {
     "name": "stdout",
     "output_type": "stream",
     "text": [
      "Step 290000, best model saved. (accuracy=0.9192)\n"
     ]
    },
    {
     "name": "stderr",
     "output_type": "stream",
     "text": [
      "Train: 100% 2000/2000 [01:51<00:00, 17.94 step/s, accuracy=1.00, loss=0.01]\n",
      "Valid:  99% 5952/6000 [00:03<00:00, 1651.49 uttr/s, accuracy=0.92, loss=0.50]\n"
     ]
    },
    {
     "name": "stdout",
     "output_type": "stream",
     "text": [
      "[292000/300000] Train Acc: 0.9995, Train loss: 0.0041, Valid Acc: 0.9155, lr = 0.00001\n"
     ]
    },
    {
     "name": "stderr",
     "output_type": "stream",
     "text": [
      "Train: 100% 2000/2000 [01:51<00:00, 17.96 step/s, accuracy=1.00, loss=0.01]\n",
      "Valid:  99% 5952/6000 [00:03<00:00, 1671.39 uttr/s, accuracy=0.92, loss=0.48]\n"
     ]
    },
    {
     "name": "stdout",
     "output_type": "stream",
     "text": [
      "[294000/300000] Train Acc: 0.9995, Train loss: 0.0042, Valid Acc: 0.9182, lr = 0.00001\n"
     ]
    },
    {
     "name": "stderr",
     "output_type": "stream",
     "text": [
      "Train: 100% 2000/2000 [01:51<00:00, 17.92 step/s, accuracy=1.00, loss=0.00]\n",
      "Valid:  99% 5952/6000 [00:03<00:00, 1599.30 uttr/s, accuracy=0.91, loss=0.49]\n"
     ]
    },
    {
     "name": "stdout",
     "output_type": "stream",
     "text": [
      "[296000/300000] Train Acc: 0.9995, Train loss: 0.0041, Valid Acc: 0.9145, lr = 0.00001\n"
     ]
    },
    {
     "name": "stderr",
     "output_type": "stream",
     "text": [
      "Train: 100% 2000/2000 [01:51<00:00, 17.91 step/s, accuracy=1.00, loss=0.00]\n",
      "Valid:  99% 5952/6000 [00:03<00:00, 1671.99 uttr/s, accuracy=0.91, loss=0.49]\n"
     ]
    },
    {
     "name": "stdout",
     "output_type": "stream",
     "text": [
      "[298000/300000] Train Acc: 0.9995, Train loss: 0.0039, Valid Acc: 0.9143, lr = 0.00001\n"
     ]
    },
    {
     "name": "stderr",
     "output_type": "stream",
     "text": [
      "Train: 100% 2000/2000 [01:51<00:00, 17.89 step/s, accuracy=1.00, loss=0.00]\n",
      "Valid:  99% 5952/6000 [00:03<00:00, 1662.56 uttr/s, accuracy=0.92, loss=0.46]\n"
     ]
    },
    {
     "name": "stdout",
     "output_type": "stream",
     "text": [
      "[300000/300000] Train Acc: 0.9996, Train loss: 0.0038, Valid Acc: 0.9177, lr = 0.00001\n"
     ]
    },
    {
     "name": "stderr",
     "output_type": "stream",
     "text": [
      "                                      \n",
      "Train:   0% 0/2000 [00:00<?, ? step/s]                                      \n",
      "Train:   0% 0/2000 [00:00<?, ? step/s]3.74 step/s, accuracy=0.02, loss=6.41]\u001b[A"
     ]
    },
    {
     "name": "stdout",
     "output_type": "stream",
     "text": [
      "Step 300000, best model saved. (accuracy=0.9192)\n"
     ]
    },
    {
     "name": "stderr",
     "output_type": "stream",
     "text": [
      "\n"
     ]
    }
   ],
   "source": [
    "from tqdm import tqdm\n",
    "\n",
    "import torch\n",
    "import torch.nn as nn\n",
    "from torch.optim import AdamW\n",
    "from torch.utils.data import DataLoader, random_split\n",
    "\n",
    "\n",
    "def parse_args():\n",
    "\t\"\"\"arguments\"\"\"\n",
    "\tconfig = {\n",
    "\t\t\"data_dir\": \"./Dataset/Dataset\",\n",
    "\t\t\"save_path\": \"model.ckpt\",\n",
    "\t\t\"batch_size\": 64,\n",
    "\t\t\"n_workers\": 0,\n",
    "\t\t\"valid_steps\": 2000,\n",
    "\t\t\"warmup_steps\": 1000,\n",
    "\t\t\"save_steps\": 10000,\n",
    "\t\t\"total_steps\": 300000,\n",
    "\t\t\"num_d_model\": 240,\n",
    "\t}\n",
    "\n",
    "\treturn config\n",
    "\n",
    "\n",
    "def main(\n",
    "\tdata_dir,\n",
    "\tsave_path,\n",
    "\tbatch_size,\n",
    "\tn_workers,\n",
    "\tvalid_steps,\n",
    "\twarmup_steps,\n",
    "\ttotal_steps,\n",
    "\tsave_steps,\n",
    "\tnum_d_model,\n",
    "):\n",
    "\t\"\"\"Main function.\"\"\"\n",
    "\tdevice = torch.device(\"cuda\" if torch.cuda.is_available() else \"cpu\")\n",
    "\tprint(f\"[Info]: Use {device} now!\")\n",
    "\n",
    "\ttrain_loader, valid_loader, speaker_num = get_dataloader(data_dir, batch_size, n_workers)\n",
    "\ttrain_iterator = iter(train_loader)\n",
    "\tprint(f\"[Info]: Finish loading data!\",flush = True)\n",
    "\tmodel = Classifier(d_model=num_d_model, n_spks=speaker_num).to(device)\n",
    "\tcriterion = nn.CrossEntropyLoss()\n",
    "\toptimizer = AdamW(model.parameters(), lr=1e-3)\n",
    "\tscheduler = get_cosine_schedule_with_warmup(optimizer, warmup_steps, total_steps)\n",
    "\tprint(f\"[Info]: Finish creating model!\",flush = True)\n",
    "\n",
    "\tbest_accuracy = -1.0\n",
    "\tbest_state_dict = None\n",
    "\ttrain_accs = [0] * len(train_loader) # record each batch\n",
    "\ttrain_loss = [0] * len(train_loader) # record each batch\n",
    "\n",
    "\tpbar = tqdm(total=valid_steps, ncols=0, desc=\"Train\", unit=\" step\")\n",
    "\n",
    "\tfor step in range(total_steps):\n",
    "\t\t# Get data\n",
    "\t\ttry:\n",
    "\t\t\tbatch = next(train_iterator)\n",
    "\t\texcept StopIteration:\n",
    "\t\t\ttrain_iterator = iter(train_loader)\n",
    "\t\t\tbatch = next(train_iterator)\n",
    "\n",
    "\t\tloss, accuracy = model_fn(batch, model, criterion, device)\n",
    "\t\tbatch_loss = loss.item()\n",
    "\t\tbatch_accuracy = accuracy.item()\n",
    "\t\t\n",
    "\t\ttrain_accs.append(batch_accuracy)\n",
    "\t\ttrain_accs.pop(0)\n",
    "\t\ttrain_loss.append(batch_loss)\n",
    "\t\ttrain_loss.pop(0)\n",
    "\n",
    "\t\t# Updata model\n",
    "\t\tloss.backward()\n",
    "\t\toptimizer.step()\n",
    "\t\tscheduler.step()\n",
    "\t\toptimizer.zero_grad()\n",
    "\n",
    "\t\t# Log\n",
    "\t\tpbar.update()\n",
    "\t\tpbar.set_postfix(\n",
    "\t\t\tloss=f\"{batch_loss:.2f}\",\n",
    "\t\t\taccuracy=f\"{batch_accuracy:.2f}\",\n",
    "\t\t\t# step=step + 1,\n",
    "\t\t)\n",
    "\n",
    "\t\t# Do validation\n",
    "\t\tif ((step + 1) % valid_steps == 0) and ((step + 1) > 80000):\n",
    "\t\t\tpbar.close()\n",
    "   \n",
    "\t\t\tvalid_accuracy = valid(valid_loader, model, criterion, device)\n",
    "\t\t\ttrain_acc = sum(train_accs)/len(train_accs)\n",
    "\t\t\ttrain_los = sum(train_loss)/len(train_loss)\n",
    "\t\t\tprint('[{:03d}/{:03d}] Train Acc: {:3.4f}, Train loss: {:3.4f}, Valid Acc: {:3.4f}, lr = {:.5f}'.format(step + 1, total_steps, train_acc, train_los,valid_accuracy, optimizer.param_groups[0]['lr']))\n",
    "\t\t\t\n",
    "\t\t\t# keep the best model\n",
    "\t\t\tif valid_accuracy > best_accuracy:\n",
    "\t\t\t\tbest_accuracy = valid_accuracy\n",
    "\t\t\t\tbest_state_dict = model.state_dict()\n",
    "\t\t\t\ttorch.save(best_state_dict, save_path)\n",
    "\t\t\t\tprint(f\"Step {step + 1}, best model saved. (accuracy={best_accuracy:.4f})\")\n",
    "\n",
    "\t\t\tpbar = tqdm(total=valid_steps, ncols=0, desc=\"Train\", unit=\" step\")\n",
    "\n",
    "\t\t# Save the best model so far.\n",
    "\t\tif (step + 1) % save_steps == 0 and best_state_dict is not None:\n",
    "\t\t\ttorch.save(best_state_dict, save_path)\n",
    "\t\t\tpbar.write(f\"Step {step + 1}, best model saved. (accuracy={best_accuracy:.4f})\")\n",
    "\n",
    "\tpbar.close()\n",
    "\n",
    "\n",
    "if __name__ == \"__main__\":\n",
    "\tmain(**parse_args())\n",
    "     "
   ]
  },
  {
   "cell_type": "markdown",
   "metadata": {
    "id": "0R2rx3AyHpQ-"
   },
   "source": [
    "# Inference"
   ]
  },
  {
   "cell_type": "markdown",
   "metadata": {
    "id": "pSuI3WY9Fz78"
   },
   "source": [
    "## Dataset of inference"
   ]
  },
  {
   "cell_type": "code",
   "execution_count": 18,
   "metadata": {
    "id": "4evns0055Dsx"
   },
   "outputs": [],
   "source": [
    "import os\n",
    "import json\n",
    "import torch\n",
    "from pathlib import Path\n",
    "from torch.utils.data import Dataset\n",
    "\n",
    "\n",
    "class InferenceDataset(Dataset):\n",
    "\tdef __init__(self, data_dir):\n",
    "\t\ttestdata_path = Path(data_dir) / \"testdata.json\"\n",
    "\t\tmetadata = json.load(testdata_path.open())\n",
    "\t\tself.data_dir = data_dir\n",
    "\t\tself.data = metadata[\"utterances\"]\n",
    "\n",
    "\tdef __len__(self):\n",
    "\t\treturn len(self.data)\n",
    "\n",
    "\tdef __getitem__(self, index):\n",
    "\t\tutterance = self.data[index]\n",
    "\t\tfeat_path = utterance[\"feature_path\"]\n",
    "\t\tmel = torch.load(os.path.join(self.data_dir, feat_path))\n",
    "\n",
    "\t\treturn feat_path, mel\n",
    "\n",
    "\n",
    "def inference_collate_batch(batch):\n",
    "\t\"\"\"Collate a batch of data.\"\"\"\n",
    "\tfeat_paths, mels = zip(*batch)\n",
    "\n",
    "\treturn feat_paths, torch.stack(mels)"
   ]
  },
  {
   "cell_type": "markdown",
   "metadata": {
    "id": "oAinHBG1GIWv"
   },
   "source": [
    "## Main funcrion of Inference"
   ]
  },
  {
   "cell_type": "code",
   "execution_count": 21,
   "metadata": {
    "id": "yQaTt7VDHoRI"
   },
   "outputs": [
    {
     "name": "stdout",
     "output_type": "stream",
     "text": [
      "[Info]: Use cuda now!\n",
      "[Info]: Finish loading data!\n",
      "[Info]: Finish creating model!\n"
     ]
    },
    {
     "data": {
      "application/vnd.jupyter.widget-view+json": {
       "model_id": "867ec31049fd4dc38324b75172a61a52",
       "version_major": 2,
       "version_minor": 0
      },
      "text/plain": [
       "  0%|          | 0/6657 [00:00<?, ?it/s]"
      ]
     },
     "metadata": {},
     "output_type": "display_data"
    }
   ],
   "source": [
    "import json\n",
    "import csv\n",
    "from pathlib import Path\n",
    "from tqdm.notebook import tqdm\n",
    "\n",
    "def parse_args():\n",
    "\t\"\"\"arguments\"\"\"\n",
    "\tconfig = {\n",
    "\t\t\"data_dir\": \"./Dataset/Dataset\",\n",
    "\t\t\"model_path\": \"./model.ckpt\",\n",
    "\t\t\"output_path\": \"./output.csv\",\n",
    "\t\t\"num_d_model\": 240,\n",
    "\t}\n",
    "\n",
    "\treturn config\n",
    "\n",
    "\n",
    "def main(\n",
    "\tdata_dir,\n",
    "\tmodel_path,\n",
    "\toutput_path,\n",
    "\tnum_d_model,\n",
    "):\n",
    "\t\"\"\"Main function.\"\"\"\n",
    "\tdevice = torch.device(\"cuda\" if torch.cuda.is_available() else \"cpu\")\n",
    "\tprint(f\"[Info]: Use {device} now!\")\n",
    "\n",
    "\tmapping_path = Path(data_dir) / \"mapping.json\"\n",
    "\tmapping = json.load(mapping_path.open())\n",
    "\n",
    "\tdataset = InferenceDataset(data_dir)\n",
    "\tdataloader = DataLoader(\n",
    "\t\tdataset,\n",
    "\t\tbatch_size=1,\n",
    "\t\tshuffle=False,\n",
    "\t\tdrop_last=False,\n",
    "\t\tnum_workers=0,\n",
    "\t\tcollate_fn=inference_collate_batch,\n",
    "\t)\n",
    "\tprint(f\"[Info]: Finish loading data!\",flush = True)\n",
    "\n",
    "\tspeaker_num = len(mapping[\"id2speaker\"])\n",
    "\tmodel = Classifier(d_model=num_d_model\n",
    "\t                   , n_spks=speaker_num).to(device)\n",
    "\tmodel.load_state_dict(torch.load(model_path))\n",
    "\tmodel.eval()\n",
    "\tprint(f\"[Info]: Finish creating model!\",flush = True)\n",
    "\n",
    "\tresults = [[\"Id\", \"Category\"]]\n",
    "\tfor feat_paths, mels in tqdm(dataloader):\n",
    "\t\twith torch.no_grad():\n",
    "\t\t\tmels = mels.to(device)\n",
    "\t\t\touts = model(mels)\n",
    "\t\t\tpreds = outs.argmax(1).cpu().numpy()\n",
    "\t\t\tfor feat_path, pred in zip(feat_paths, preds):\n",
    "\t\t\t\tresults.append([feat_path, mapping[\"id2speaker\"][str(pred)]])\n",
    "\twith open(output_path, 'w', newline='') as csvfile:\n",
    "\t\twriter = csv.writer(csvfile)\n",
    "\t\twriter.writerows(results)\n",
    "    \n",
    "\n",
    "\n",
    "if __name__ == \"__main__\":\n",
    "\tmain(**parse_args())                "
   ]
  },
  {
   "cell_type": "code",
   "execution_count": null,
   "metadata": {},
   "outputs": [],
   "source": []
  }
 ],
 "metadata": {
  "accelerator": "GPU",
  "colab": {
   "collapsed_sections": [],
   "name": "HW04 (1).ipynb",
   "provenance": [],
   "toc_visible": true
  },
  "kernelspec": {
   "display_name": "Pytorch",
   "language": "python",
   "name": "pytorch"
  },
  "language_info": {
   "codemirror_mode": {
    "name": "ipython",
    "version": 3
   },
   "file_extension": ".py",
   "mimetype": "text/x-python",
   "name": "python",
   "nbconvert_exporter": "python",
   "pygments_lexer": "ipython3",
   "version": "3.8.16"
  }
 },
 "nbformat": 4,
 "nbformat_minor": 1
}
